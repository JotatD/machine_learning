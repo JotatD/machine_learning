{
 "cells": [
  {
   "cell_type": "markdown",
   "id": "65e57a8b",
   "metadata": {},
   "source": [
    "* * *\n",
    "<pre> NYU Paris            <i> Machine Learning - Spring 2023 </i></pre>\n",
    "* * *\n",
    "\n",
    "\n",
    "<h1 align=\"center\"> Lab 5: the multilayer perceptron </h1>\n",
    "\n",
    "<pre align=\"left\"> February 22th 2023               <i> Author: Guillaume Staerman </i></pre>\n",
    "* * *\n",
    "\n",
    "\n",
    "##### Goal:\n",
    "- Implement your Multilayer perceptron model"
   ]
  },
  {
   "cell_type": "markdown",
   "id": "5a657681",
   "metadata": {},
   "source": [
    "## Installing and importing Pytorch"
   ]
  },
  {
   "cell_type": "code",
   "execution_count": 1,
   "id": "6767c076",
   "metadata": {},
   "outputs": [],
   "source": [
    "import torch\n",
    "from torchvision import datasets\n",
    "from torchvision.transforms import ToTensor\n",
    "\n",
    "\n",
    "# Versions of torch and torchvision have to be compatible.\n",
    "# check here: https://github.com/pytorch/pytorch/wiki/PyTorch-Versions"
   ]
  },
  {
   "cell_type": "markdown",
   "id": "99193052",
   "metadata": {},
   "source": [
    "### Loading and preparing the MNIST dataset"
   ]
  },
  {
   "cell_type": "code",
   "execution_count": 2,
   "id": "0de880eb",
   "metadata": {},
   "outputs": [],
   "source": [
    "# Define training and testing data using the functions in the cell above. \n",
    "\n",
    "train_data = datasets.MNIST(\n",
    "    root=\"data\",\n",
    "    train=True,\n",
    "    download=True,\n",
    "    transform=ToTensor()\n",
    ")\n",
    "\n",
    "test_data = datasets.MNIST(\n",
    "    root=\"data\",\n",
    "    train=False,\n",
    "    download=True,\n",
    "    transform=ToTensor()\n",
    ")"
   ]
  },
  {
   "cell_type": "code",
   "execution_count": null,
   "id": "6d871368",
   "metadata": {},
   "outputs": [],
   "source": []
  },
  {
   "cell_type": "markdown",
   "id": "75119177",
   "metadata": {},
   "source": [
    "## Question 1\n",
    "\n",
    "### Visualize some elements of the dataset:"
   ]
  },
  {
   "cell_type": "code",
   "execution_count": 3,
   "id": "a58802b5",
   "metadata": {},
   "outputs": [
    {
     "name": "stdout",
     "output_type": "stream",
     "text": [
      "torch.Size([60000, 28, 28])\n",
      "torch.Size([1, 28, 28])\n"
     ]
    },
    {
     "data": {
      "image/png": "[encoded data removed]",
      "text/plain": [
       "<Figure size 800x800 with 3 Axes>"
      ]
     },
     "metadata": {},
     "output_type": "display_data"
    }
   ],
   "source": [
    "import matplotlib.pyplot as plt\n",
    "# Visualize some images of the MNIST dataset\n",
    "# Size of training data\n",
    "print(train_data.data.shape)\n",
    "#print(dir(train_data))\n",
    "# Size of testing data\n",
    "\n",
    "labels_map = {\n",
    "    0: \"0\",\n",
    "    1: \"1\",\n",
    "    2: \"2\",\n",
    "    3: \"3\",\n",
    "    4: \"4\",\n",
    "    5: \"5\",\n",
    "    6: \"6\",\n",
    "    7: \"7\",\n",
    "    8: \"8\",\n",
    "    9: \"9\",\n",
    "}\n",
    "\n",
    "figure = plt.figure(figsize=(8, 8))\n",
    "cols, rows = 3, 1\n",
    "for i in range(1, cols * rows + 1):\n",
    "    sample_idx = i\n",
    "    img, label = train_data[sample_idx]\n",
    "    figure.add_subplot(rows, cols, i)\n",
    "    plt.title(labels_map[label])\n",
    "    plt.axis(\"off\")\n",
    "    plt.imshow(img.squeeze(), cmap=\"gray\")\n",
    "print(img.shape)\n",
    "plt.show()"
   ]
  },
  {
   "cell_type": "markdown",
   "id": "0f2a9a20",
   "metadata": {},
   "source": [
    "## Question 2\n",
    "\n",
    "### Define a dataloader to construct a batch-wise iterator from your train/test data\n"
   ]
  },
  {
   "cell_type": "code",
   "execution_count": 4,
   "id": "de33cb41",
   "metadata": {},
   "outputs": [],
   "source": [
    "from torch.utils.data import DataLoader\n",
    "\n",
    "BATCH_SIZE = 10\n",
    "trainloader = DataLoader(train_data, batch_size=BATCH_SIZE, shuffle=False)\n",
    "testloader = DataLoader(test_data, batch_size=BATCH_SIZE, shuffle=False)"
   ]
  },
  {
   "cell_type": "markdown",
   "id": "f805dc4e",
   "metadata": {},
   "source": [
    "## Question 3\n",
    "\n",
    "### Design your own Neural Network"
   ]
  },
  {
   "cell_type": "code",
   "execution_count": 5,
   "id": "ee19c7e6",
   "metadata": {},
   "outputs": [],
   "source": [
    "import torch.nn as nn\n",
    "import torch.nn.functional as F\n",
    "# number of features (len of X cols)\n",
    "input_dim = 28 * 28\n",
    "\n",
    "# number of hidden layers\n",
    "hidden_dim = 256\n",
    "\n",
    "# number of classes (unique of y)\n",
    "output_dim = 10\n",
    "\n",
    "class MLP(nn.Module):\n",
    "    def __init__(self):\n",
    "        super(MLP, self).__init__()\n",
    "        self.linear1 = nn.Linear(input_dim, hidden_dim)\n",
    "        self.linear2 = nn.Linear(hidden_dim, output_dim)\n",
    "\n",
    "    def forward(self, x):\n",
    "        h_relu = nn.ReLU()\n",
    "        \n",
    "        flattened = x.view(-1, input_dim) #flatten data to match dimension\n",
    "        \n",
    "        hidden = self.linear1(flattened) #dimensional reduction\n",
    "        \n",
    "        activated = h_relu(hidden) #ignore negs\n",
    "        \n",
    "        y_pred = self.linear2(activated) #output scores\n",
    "        \n",
    "        return y_pred"
   ]
  },
  {
   "cell_type": "markdown",
   "id": "fa46e6fb",
   "metadata": {},
   "source": [
    "## Question 4\n",
    "\n",
    "### Train your neural network on the trainloader"
   ]
  },
  {
   "cell_type": "code",
   "execution_count": 6,
   "id": "9549e4dd",
   "metadata": {},
   "outputs": [
    {
     "name": "stdout",
     "output_type": "stream",
     "text": [
      "<bound method Module.parameters of MLP(\n",
      "  (linear1): Linear(in_features=784, out_features=256, bias=True)\n",
      "  (linear2): Linear(in_features=256, out_features=10, bias=True)\n",
      ")>\n",
      "CPU times: user 1.89 ms, sys: 1.73 ms, total: 3.62 ms\n",
      "Wall time: 7.05 ms\n"
     ]
    }
   ],
   "source": [
    "%%time\n",
    "from torch.nn.functional import nll_loss, cross_entropy, log_softmax\n",
    "import torch.optim as optim\n",
    "\n",
    "mlp = MLP()\n",
    "print(mlp.parameters)\n",
    "\n",
    "# Optimizer\n",
    "epochs = 2 #how many times we are gonna iterate over the data set\n",
    "learning_rate = 1e-6  #small for preventing overshooting, could be smaller \n",
    "optimizer = optim.Adam(mlp.parameters(), lr=learning_rate)\n",
    "\n",
    "# Choice of the loss\n",
    "criterion = cross_entropy # can also be nll_loss\n",
    "\n",
    "\n",
    "\n",
    "def training(optimizer, criterion, epochs, learning_rate):\n",
    "    losses = []\n",
    "    for t in range(epochs):\n",
    "        for i, data in enumerate(trainloader):\n",
    "            inputs, labels = data\n",
    "\n",
    "            # set optimizer to zero grad to remove previous epoch gradients\n",
    "            optimizer.zero_grad()\n",
    "\n",
    "            # Evaluate the loss\n",
    "            outputs = mlp.forward(inputs)\n",
    "\n",
    "            if criterion == cross_entropy: \n",
    "                loss = criterion(outputs, labels) #cross_entropy incorporates softmax\n",
    "            elif criterion == nll_loss:\n",
    "                loss = F.nll_loss(F.log_softmax(outputs, dim=1), labels) #softmax gets the probability for the outputs\n",
    "\n",
    "            # backward propagation\n",
    "            loss.backward()\n",
    "\n",
    "            # One optimization step (gradient descent)\n",
    "            optimizer.step()\n",
    "\n",
    "            losses.append(loss.item())\n",
    "\n",
    "            if not i % 2000:\n",
    "                print(t, i, loss.item())\n",
    "    return losses\n"
   ]
  },
  {
   "cell_type": "code",
   "execution_count": 7,
   "id": "ca708a6c",
   "metadata": {},
   "outputs": [
    {
     "name": "stdout",
     "output_type": "stream",
     "text": [
      "0 0 2.3298230171203613\n",
      "0 2000 2.2057456970214844\n",
      "0 4000 2.0921757221221924\n",
      "1 0 2.1043758392333984\n",
      "1 2000 1.9757614135742188\n",
      "1 4000 1.7829921245574951\n"
     ]
    }
   ],
   "source": [
    "losses = training(optimizer, criterion, epochs, learning_rate)"
   ]
  },
  {
   "cell_type": "markdown",
   "id": "62787efd",
   "metadata": {},
   "source": [
    "## Question 5\n",
    "\n",
    "### Inspect the optimization procedure through the loss (plot the loss), what do you observe?"
   ]
  },
  {
   "cell_type": "code",
   "execution_count": 8,
   "id": "dd5615eb",
   "metadata": {},
   "outputs": [
    {
     "data": {
      "text/plain": [
       "[<matplotlib.lines.Line2D at 0x7fcca8c234f0>]"
      ]
     },
     "execution_count": 8,
     "metadata": {},
     "output_type": "execute_result"
    },
    {
     "data": {
      "image/png": "[encoded data removed]",
      "text/plain": [
       "<Figure size 640x480 with 1 Axes>"
      ]
     },
     "metadata": {},
     "output_type": "display_data"
    }
   ],
   "source": [
    "plt.plot(losses)"
   ]
  },
  {
   "cell_type": "markdown",
   "id": "acb15e28",
   "metadata": {},
   "source": [
    "As expected, the loss decreases as the number of interations increases. However, the loss is very noisy because our batch size is small. We do not have a lot of information to figure out where to go to achieve our minimization. We might point to the incorrect direction several times before finally approximating the global minimum."
   ]
  },
  {
   "cell_type": "markdown",
   "id": "0e421890",
   "metadata": {},
   "source": [
    "## Question 6\n",
    "\n",
    "### Evaluate the quality of your classifier on the test set"
   ]
  },
  {
   "cell_type": "code",
   "execution_count": 9,
   "id": "91eddf4d",
   "metadata": {},
   "outputs": [
    {
     "name": "stdout",
     "output_type": "stream",
     "text": [
      "tensor(0.7500)\n"
     ]
    }
   ],
   "source": [
    "size_test = test_data.data.shape[0]\n",
    "\n",
    "\n",
    "def accuracy(mlp):\n",
    "    correct = 0\n",
    "    for data in testloader:\n",
    "        inputs, labels = data\n",
    "        outputs = mlp.forward(inputs)\n",
    "        #loss = criterion(outputs, labels)\n",
    "        predicted = torch.argmax(outputs, dim=1)\n",
    "        correct += (predicted == labels).sum()\n",
    "\n",
    "    return correct/size_test # To do\n",
    "\n",
    "print(accuracy(mlp))"
   ]
  },
  {
   "cell_type": "markdown",
   "id": "308cf736",
   "metadata": {},
   "source": [
    "## Question 7 (Bonus)\n",
    "\n",
    "### Repeat this training with different loss (nll/cross_entropy...) and different number of epochs. What do you observe?"
   ]
  },
  {
   "cell_type": "code",
   "execution_count": 10,
   "id": "7eca30ec",
   "metadata": {},
   "outputs": [
    {
     "name": "stdout",
     "output_type": "stream",
     "text": [
      "<bound method Module.parameters of MLP(\n",
      "  (linear1): Linear(in_features=784, out_features=256, bias=True)\n",
      "  (linear2): Linear(in_features=256, out_features=10, bias=True)\n",
      ")>\n",
      "0 0 2.304267406463623\n",
      "0 2000 0.29273074865341187\n",
      "0 4000 0.034727875143289566\n",
      "1 0 0.005455571226775646\n",
      "1 2000 0.05193888396024704\n",
      "1 4000 0.013632895424962044\n",
      "2 0 0.0016173949697986245\n",
      "2 2000 0.029883746057748795\n",
      "2 4000 0.018077412620186806\n",
      "3 0 0.00037838725256733596\n",
      "3 2000 0.0023311858531087637\n",
      "3 4000 0.0007897831383161247\n",
      "4 0 9.226772817783058e-05\n",
      "4 2000 0.01249297522008419\n",
      "4 4000 0.0011889293091371655\n",
      "5 0 1.331534167547943e-05\n",
      "5 2000 0.0026938205119222403\n",
      "5 4000 0.00035107159055769444\n",
      "6 0 8.773485205892939e-06\n",
      "6 2000 0.0001179767568828538\n",
      "6 4000 0.00022259741672314703\n",
      "7 0 2.074051371891983e-05\n",
      "7 2000 0.004722735844552517\n",
      "7 4000 0.006229464430361986\n",
      "8 0 1.10623759610462e-05\n",
      "8 2000 0.002364029176533222\n",
      "8 4000 0.0009179603075608611\n",
      "9 0 5.9126568885403685e-06\n",
      "9 2000 8.96429264685139e-06\n",
      "9 4000 0.0006198065239004791\n"
     ]
    },
    {
     "data": {
      "text/plain": [
       "tensor(0.9683)"
      ]
     },
     "execution_count": 10,
     "metadata": {},
     "output_type": "execute_result"
    }
   ],
   "source": [
    "mlp = MLP()\n",
    "print(mlp.parameters)\n",
    "\n",
    "# Optimizer\n",
    "epochs = 10 \n",
    "learning_rate = 1e-3 \n",
    "optimizer = optim.Adam(mlp.parameters(), lr=learning_rate)\n",
    "\n",
    "# Choice of the loss\n",
    "criterion = cross_entropy # nll_loss\n",
    "\n",
    "training(optimizer, criterion, epochs, learning_rate)\n",
    "\n",
    "accuracy(mlp)"
   ]
  },
  {
   "cell_type": "markdown",
   "id": "8cab77aa",
   "metadata": {},
   "source": [
    "Terrible parameters on purpose below!!"
   ]
  },
  {
   "cell_type": "code",
   "execution_count": 11,
   "id": "1fbe218c",
   "metadata": {},
   "outputs": [
    {
     "name": "stdout",
     "output_type": "stream",
     "text": [
      "<bound method Module.parameters of MLP(\n",
      "  (linear1): Linear(in_features=784, out_features=256, bias=True)\n",
      "  (linear2): Linear(in_features=256, out_features=10, bias=True)\n",
      ")>\n",
      "0 0 2.3258421421051025\n",
      "0 2000 2.614046335220337\n",
      "0 4000 2.614877223968506\n",
      "1 0 87.41511535644531\n",
      "1 2000 2.62685227394104\n",
      "1 4000 2.614985466003418\n",
      "2 0 655.9989624023438\n",
      "2 2000 2.626758098602295\n",
      "2 4000 2.6149916648864746\n"
     ]
    },
    {
     "data": {
      "text/plain": [
       "tensor(0.1010)"
      ]
     },
     "execution_count": 11,
     "metadata": {},
     "output_type": "execute_result"
    }
   ],
   "source": [
    "mlp = MLP()\n",
    "print(mlp.parameters)\n",
    "\n",
    "# Optimizer\n",
    "epochs = 3 \n",
    "learning_rate = 1 \n",
    "optimizer = optim.Adam(mlp.parameters(), lr=learning_rate)\n",
    "\n",
    "# Choice of the loss\n",
    "criterion = cross_entropy # nll_loss\n",
    "\n",
    "training(optimizer, criterion, epochs, learning_rate)\n",
    "\n",
    "accuracy(mlp)"
   ]
  },
  {
   "cell_type": "code",
   "execution_count": 12,
   "id": "f112fdfe",
   "metadata": {},
   "outputs": [
    {
     "name": "stdout",
     "output_type": "stream",
     "text": [
      "<bound method Module.parameters of MLP(\n",
      "  (linear1): Linear(in_features=784, out_features=256, bias=True)\n",
      "  (linear2): Linear(in_features=256, out_features=10, bias=True)\n",
      ")>\n",
      "0 0 2.304450511932373\n",
      "0 2000 2.255970001220703\n",
      "0 4000 2.145508050918579\n",
      "1 0 2.0942842960357666\n",
      "1 2000 2.0316388607025146\n",
      "1 4000 1.8374134302139282\n",
      "CPU times: user 1min 13s, sys: 1min 44s, total: 2min 58s\n",
      "Wall time: 46.5 s\n"
     ]
    },
    {
     "data": {
      "text/plain": [
       "tensor(0.7607)"
      ]
     },
     "execution_count": 12,
     "metadata": {},
     "output_type": "execute_result"
    }
   ],
   "source": [
    "#using nll_loss\n",
    "\n",
    "%%time\n",
    "from torch.nn.functional import nll_loss, cross_entropy\n",
    "import torch.optim as optim\n",
    "\n",
    "mlp = MLP()\n",
    "print(mlp.parameters)\n",
    "\n",
    "# Optimizer\n",
    "epochs = 2 #\n",
    "learning_rate = 1e-6\n",
    "optimizer = optim.Adam(mlp.parameters(), lr=learning_rate)\n",
    "\n",
    "# Choice of the loss\n",
    "criterion = nll_loss\n",
    "\n",
    "training(optimizer, criterion, epochs, learning_rate)\n",
    "\n",
    "accuracy(mlp)"
   ]
  },
  {
   "cell_type": "markdown",
   "id": "8e37e219",
   "metadata": {},
   "source": [
    "The general remark is that our model is complex enough to generate accurate predicitons (about 97%) provided the correct parameters. On the other hand, given a very large learning rate, our model performs very poorly. This is because when we \"miss\" the correct direction (which can happen because we are taking gradient for a batch sample, and not from the entire data set), we go very far away from our minimum. Another thing that can happen is that we overshoot the minimum even if we went in the right direction. \n",
    "\n",
    "nll_loss-based NN has a similar behavior to the cross-entropy one.\n",
    "\n"
   ]
  },
  {
   "cell_type": "code",
   "execution_count": null,
   "id": "b22505b1",
   "metadata": {},
   "outputs": [],
   "source": []
  }
 ],
 "metadata": {
  "kernelspec": {
   "display_name": "Python 3 (ipykernel)",
   "language": "python",
   "name": "python3"
  },
  "language_info": {
   "codemirror_mode": {
    "name": "ipython",
    "version": 3
   },
   "file_extension": ".py",
   "mimetype": "text/x-python",
   "name": "python",
   "nbconvert_exporter": "python",
   "pygments_lexer": "ipython3",
   "version": "3.9.13"
  }
 },
 "nbformat": 4,
 "nbformat_minor": 5
}

{
  "cells": [
    {
      "cell_type": "markdown",
      "metadata": {
        "id": "R-YRjhfp6-77"
      },
      "source": [
        "\n",
        "\n",
        "\n",
        "\n",
        "\n",
        "\n",
        "\n",
        "\n",
        "\n",
        "\n",
        "\n",
        "\n",
        "\n",
        "\n",
        "\n",
        "\n",
        "\n",
        "\n",
        "\n",
        "\n",
        "\n",
        "\n",
        "\n",
        "\n",
        "\n",
        "\n",
        "\n",
        "\n",
        "\n",
        "\n",
        "\n",
        "\n",
        "\n",
        "\n",
        "\n",
        "\n",
        "\n",
        "\n",
        "\n",
        "\n",
        "\n",
        "\n",
        "\n",
        "\n",
        "\n",
        "\n",
        "# Lab 2: Logistic regression - Titanic\n",
        "\n",
        "https://www.kaggle.com/c/titanic/data"
      ]
    },
    {
      "cell_type": "code",
      "execution_count": 1,
      "metadata": {
        "id": "lU-B4cEo6-8B"
      },
      "outputs": [],
      "source": [
        "import sys\n",
        "import pandas as pd\n",
        "import matplotlib.pyplot as plt\n",
        "import seaborn as sns\n",
        "import numpy as np\n",
        "import os"
      ]
    },
    {
      "cell_type": "code",
      "execution_count": 2,
      "metadata": {
        "id": "uzt2psbh6-8D"
      },
      "outputs": [],
      "source": [
        "import sklearn as sk"
      ]
    },
    {
      "cell_type": "code",
      "source": [
        "# This cell has to be run ONLY if you are using google colab on google drive\n",
        "from google.colab import drive\n",
        "drive.mount('/content/drive')"
      ],
      "metadata": {
        "id": "EXCH10vSGyuU",
        "colab": {
          "base_uri": "https://localhost:8080/"
        },
        "outputId": "b4fb575c-e3a8-43bf-c8a6-bbd24ebd5186"
      },
      "execution_count": 3,
      "outputs": [
        {
          "output_type": "stream",
          "name": "stdout",
          "text": [
            "Drive already mounted at /content/drive; to attempt to forcibly remount, call drive.mount(\"/content/drive\", force_remount=True).\n"
          ]
        }
      ]
    },
    {
      "cell_type": "code",
      "source": [
        "!tar -xvf drive/MyDrive/Colab\\ Notebooks/data/data.tar"
      ],
      "metadata": {
        "id": "-FjEMXRS131K",
        "colab": {
          "base_uri": "https://localhost:8080/"
        },
        "outputId": "c0e78b2d-343f-4c03-c4d7-a306fbc9fef1"
      },
      "execution_count": 4,
      "outputs": [
        {
          "output_type": "stream",
          "name": "stdout",
          "text": [
            "data/testtitanic.csv\n",
            "data/traintitanic.csv\n",
            "data/gender_submission.csv\n",
            "data/\n"
          ]
        }
      ]
    },
    {
      "cell_type": "code",
      "execution_count": 5,
      "metadata": {
        "id": "Z9tda0LV6-8G"
      },
      "outputs": [],
      "source": [
        "df = pd.read_csv(\"/content/data/traintitanic.csv\")\n"
      ]
    },
    {
      "cell_type": "code",
      "source": [
        "# Using head(), info(), describe() etc. inspect the dataset. Which features are numerical, which ones are categorical? Comment about missing data.\n",
        "\n",
        "df.describe()\n"
      ],
      "metadata": {
        "id": "XH8ocTyw3wpo",
        "colab": {
          "base_uri": "https://localhost:8080/",
          "height": 297
        },
        "outputId": "f7069571-5c74-452c-8a62-1348e410e005"
      },
      "execution_count": 6,
      "outputs": [
        {
          "output_type": "execute_result",
          "data": {
            "text/plain": [
              "       PassengerId    Survived      Pclass         Age       SibSp  \\\n",
              "count   891.000000  891.000000  891.000000  714.000000  891.000000   \n",
              "mean    446.000000    0.383838    2.308642   29.699118    0.523008   \n",
              "std     257.353842    0.486592    0.836071   14.526497    1.102743   \n",
              "min       1.000000    0.000000    1.000000    0.420000    0.000000   \n",
              "25%     223.500000    0.000000    2.000000   20.125000    0.000000   \n",
              "50%     446.000000    0.000000    3.000000   28.000000    0.000000   \n",
              "75%     668.500000    1.000000    3.000000   38.000000    1.000000   \n",
              "max     891.000000    1.000000    3.000000   80.000000    8.000000   \n",
              "\n",
              "            Parch        Fare  \n",
              "count  891.000000  891.000000  \n",
              "mean     0.381594   32.204208  \n",
              "std      0.806057   49.693429  \n",
              "min      0.000000    0.000000  \n",
              "25%      0.000000    7.910400  \n",
              "50%      0.000000   14.454200  \n",
              "75%      0.000000   31.000000  \n",
              "max      6.000000  512.329200  "
            ],
            "text/html": [
              "\n",
              "  <div id=\"df-79764754-3861-4fb7-9682-2b4e92393936\">\n",
              "    <div class=\"colab-df-container\">\n",
              "      <div>\n",
              "<style scoped>\n",
              "    .dataframe tbody tr th:only-of-type {\n",
              "        vertical-align: middle;\n",
              "    }\n",
              "\n",
              "    .dataframe tbody tr th {\n",
              "        vertical-align: top;\n",
              "    }\n",
              "\n",
              "    .dataframe thead th {\n",
              "        text-align: right;\n",
              "    }\n",
              "</style>\n",
              "<table border=\"1\" class=\"dataframe\">\n",
              "  <thead>\n",
              "    <tr style=\"text-align: right;\">\n",
              "      <th></th>\n",
              "      <th>PassengerId</th>\n",
              "      <th>Survived</th>\n",
              "      <th>Pclass</th>\n",
              "      <th>Age</th>\n",
              "      <th>SibSp</th>\n",
              "      <th>Parch</th>\n",
              "      <th>Fare</th>\n",
              "    </tr>\n",
              "  </thead>\n",
              "  <tbody>\n",
              "    <tr>\n",
              "      <th>count</th>\n",
              "      <td>891.000000</td>\n",
              "      <td>891.000000</td>\n",
              "      <td>891.000000</td>\n",
              "      <td>714.000000</td>\n",
              "      <td>891.000000</td>\n",
              "      <td>891.000000</td>\n",
              "      <td>891.000000</td>\n",
              "    </tr>\n",
              "    <tr>\n",
              "      <th>mean</th>\n",
              "      <td>446.000000</td>\n",
              "      <td>0.383838</td>\n",
              "      <td>2.308642</td>\n",
              "      <td>29.699118</td>\n",
              "      <td>0.523008</td>\n",
              "      <td>0.381594</td>\n",
              "      <td>32.204208</td>\n",
              "    </tr>\n",
              "    <tr>\n",
              "      <th>std</th>\n",
              "      <td>257.353842</td>\n",
              "      <td>0.486592</td>\n",
              "      <td>0.836071</td>\n",
              "      <td>14.526497</td>\n",
              "      <td>1.102743</td>\n",
              "      <td>0.806057</td>\n",
              "      <td>49.693429</td>\n",
              "    </tr>\n",
              "    <tr>\n",
              "      <th>min</th>\n",
              "      <td>1.000000</td>\n",
              "      <td>0.000000</td>\n",
              "      <td>1.000000</td>\n",
              "      <td>0.420000</td>\n",
              "      <td>0.000000</td>\n",
              "      <td>0.000000</td>\n",
              "      <td>0.000000</td>\n",
              "    </tr>\n",
              "    <tr>\n",
              "      <th>25%</th>\n",
              "      <td>223.500000</td>\n",
              "      <td>0.000000</td>\n",
              "      <td>2.000000</td>\n",
              "      <td>20.125000</td>\n",
              "      <td>0.000000</td>\n",
              "      <td>0.000000</td>\n",
              "      <td>7.910400</td>\n",
              "    </tr>\n",
              "    <tr>\n",
              "      <th>50%</th>\n",
              "      <td>446.000000</td>\n",
              "      <td>0.000000</td>\n",
              "      <td>3.000000</td>\n",
              "      <td>28.000000</td>\n",
              "      <td>0.000000</td>\n",
              "      <td>0.000000</td>\n",
              "      <td>14.454200</td>\n",
              "    </tr>\n",
              "    <tr>\n",
              "      <th>75%</th>\n",
              "      <td>668.500000</td>\n",
              "      <td>1.000000</td>\n",
              "      <td>3.000000</td>\n",
              "      <td>38.000000</td>\n",
              "      <td>1.000000</td>\n",
              "      <td>0.000000</td>\n",
              "      <td>31.000000</td>\n",
              "    </tr>\n",
              "    <tr>\n",
              "      <th>max</th>\n",
              "      <td>891.000000</td>\n",
              "      <td>1.000000</td>\n",
              "      <td>3.000000</td>\n",
              "      <td>80.000000</td>\n",
              "      <td>8.000000</td>\n",
              "      <td>6.000000</td>\n",
              "      <td>512.329200</td>\n",
              "    </tr>\n",
              "  </tbody>\n",
              "</table>\n",
              "</div>\n",
              "      <button class=\"colab-df-convert\" onclick=\"convertToInteractive('df-79764754-3861-4fb7-9682-2b4e92393936')\"\n",
              "              title=\"Convert this dataframe to an interactive table.\"\n",
              "              style=\"display:none;\">\n",
              "        \n",
              "  <svg xmlns=\"http://www.w3.org/2000/svg\" height=\"24px\"viewBox=\"0 0 24 24\"\n",
              "       width=\"24px\">\n",
              "    <path d=\"M0 0h24v24H0V0z\" fill=\"none\"/>\n",
              "    <path d=\"M18.56 5.44l.94 2.06.94-2.06 2.06-.94-2.06-.94-.94-2.06-.94 2.06-2.06.94zm-11 1L8.5 8.5l.94-2.06 2.06-.94-2.06-.94L8.5 2.5l-.94 2.06-2.06.94zm10 10l.94 2.06.94-2.06 2.06-.94-2.06-.94-.94-2.06-.94 2.06-2.06.94z\"/><path d=\"M17.41 7.96l-1.37-1.37c-.4-.4-.92-.59-1.43-.59-.52 0-1.04.2-1.43.59L10.3 9.45l-7.72 7.72c-.78.78-.78 2.05 0 2.83L4 21.41c.39.39.9.59 1.41.59.51 0 1.02-.2 1.41-.59l7.78-7.78 2.81-2.81c.8-.78.8-2.07 0-2.86zM5.41 20L4 18.59l7.72-7.72 1.47 1.35L5.41 20z\"/>\n",
              "  </svg>\n",
              "      </button>\n",
              "      \n",
              "  <style>\n",
              "    .colab-df-container {\n",
              "      display:flex;\n",
              "      flex-wrap:wrap;\n",
              "      gap: 12px;\n",
              "    }\n",
              "\n",
              "    .colab-df-convert {\n",
              "      background-color: #E8F0FE;\n",
              "      border: none;\n",
              "      border-radius: 50%;\n",
              "      cursor: pointer;\n",
              "      display: none;\n",
              "      fill: #1967D2;\n",
              "      height: 32px;\n",
              "      padding: 0 0 0 0;\n",
              "      width: 32px;\n",
              "    }\n",
              "\n",
              "    .colab-df-convert:hover {\n",
              "      background-color: #E2EBFA;\n",
              "      box-shadow: 0px 1px 2px rgba(60, 64, 67, 0.3), 0px 1px 3px 1px rgba(60, 64, 67, 0.15);\n",
              "      fill: #174EA6;\n",
              "    }\n",
              "\n",
              "    [theme=dark] .colab-df-convert {\n",
              "      background-color: #3B4455;\n",
              "      fill: #D2E3FC;\n",
              "    }\n",
              "\n",
              "    [theme=dark] .colab-df-convert:hover {\n",
              "      background-color: #434B5C;\n",
              "      box-shadow: 0px 1px 3px 1px rgba(0, 0, 0, 0.15);\n",
              "      filter: drop-shadow(0px 1px 2px rgba(0, 0, 0, 0.3));\n",
              "      fill: #FFFFFF;\n",
              "    }\n",
              "  </style>\n",
              "\n",
              "      <script>\n",
              "        const buttonEl =\n",
              "          document.querySelector('#df-79764754-3861-4fb7-9682-2b4e92393936 button.colab-df-convert');\n",
              "        buttonEl.style.display =\n",
              "          google.colab.kernel.accessAllowed ? 'block' : 'none';\n",
              "\n",
              "        async function convertToInteractive(key) {\n",
              "          const element = document.querySelector('#df-79764754-3861-4fb7-9682-2b4e92393936');\n",
              "          const dataTable =\n",
              "            await google.colab.kernel.invokeFunction('convertToInteractive',\n",
              "                                                     [key], {});\n",
              "          if (!dataTable) return;\n",
              "\n",
              "          const docLinkHtml = 'Like what you see? Visit the ' +\n",
              "            '<a target=\"_blank\" href=https://colab.research.google.com/notebooks/data_table.ipynb>data table notebook</a>'\n",
              "            + ' to learn more about interactive tables.';\n",
              "          element.innerHTML = '';\n",
              "          dataTable['output_type'] = 'display_data';\n",
              "          await google.colab.output.renderOutput(dataTable, element);\n",
              "          const docLink = document.createElement('div');\n",
              "          docLink.innerHTML = docLinkHtml;\n",
              "          element.appendChild(docLink);\n",
              "        }\n",
              "      </script>\n",
              "    </div>\n",
              "  </div>\n",
              "  "
            ]
          },
          "metadata": {},
          "execution_count": 6
        }
      ]
    },
    {
      "cell_type": "code",
      "source": [
        "df.head()"
      ],
      "metadata": {
        "id": "gzL4M17E3050",
        "colab": {
          "base_uri": "https://localhost:8080/",
          "height": 204
        },
        "outputId": "b226c835-d873-4ff3-f528-cf8136cc6b85"
      },
      "execution_count": 7,
      "outputs": [
        {
          "output_type": "execute_result",
          "data": {
            "text/plain": [
              "   PassengerId  Survived  Pclass  \\\n",
              "0            1         0       3   \n",
              "1            2         1       1   \n",
              "2            3         1       3   \n",
              "3            4         1       1   \n",
              "4            5         0       3   \n",
              "\n",
              "                                                Name     Sex   Age  SibSp  \\\n",
              "0                            Braund, Mr. Owen Harris    male  22.0      1   \n",
              "1  Cumings, Mrs. John Bradley (Florence Briggs Th...  female  38.0      1   \n",
              "2                             Heikkinen, Miss. Laina  female  26.0      0   \n",
              "3       Futrelle, Mrs. Jacques Heath (Lily May Peel)  female  35.0      1   \n",
              "4                           Allen, Mr. William Henry    male  35.0      0   \n",
              "\n",
              "   Parch            Ticket     Fare Cabin Embarked  \n",
              "0      0         A/5 21171   7.2500   NaN        S  \n",
              "1      0          PC 17599  71.2833   C85        C  \n",
              "2      0  STON/O2. 3101282   7.9250   NaN        S  \n",
              "3      0            113803  53.1000  C123        S  \n",
              "4      0            373450   8.0500   NaN        S  "
            ],
            "text/html": [
              "\n",
              "  <div id=\"df-350d7915-f9ee-4656-b2a8-6142692e8b06\">\n",
              "    <div class=\"colab-df-container\">\n",
              "      <div>\n",
              "<style scoped>\n",
              "    .dataframe tbody tr th:only-of-type {\n",
              "        vertical-align: middle;\n",
              "    }\n",
              "\n",
              "    .dataframe tbody tr th {\n",
              "        vertical-align: top;\n",
              "    }\n",
              "\n",
              "    .dataframe thead th {\n",
              "        text-align: right;\n",
              "    }\n",
              "</style>\n",
              "<table border=\"1\" class=\"dataframe\">\n",
              "  <thead>\n",
              "    <tr style=\"text-align: right;\">\n",
              "      <th></th>\n",
              "      <th>PassengerId</th>\n",
              "      <th>Survived</th>\n",
              "      <th>Pclass</th>\n",
              "      <th>Name</th>\n",
              "      <th>Sex</th>\n",
              "      <th>Age</th>\n",
              "      <th>SibSp</th>\n",
              "      <th>Parch</th>\n",
              "      <th>Ticket</th>\n",
              "      <th>Fare</th>\n",
              "      <th>Cabin</th>\n",
              "      <th>Embarked</th>\n",
              "    </tr>\n",
              "  </thead>\n",
              "  <tbody>\n",
              "    <tr>\n",
              "      <th>0</th>\n",
              "      <td>1</td>\n",
              "      <td>0</td>\n",
              "      <td>3</td>\n",
              "      <td>Braund, Mr. Owen Harris</td>\n",
              "      <td>male</td>\n",
              "      <td>22.0</td>\n",
              "      <td>1</td>\n",
              "      <td>0</td>\n",
              "      <td>A/5 21171</td>\n",
              "      <td>7.2500</td>\n",
              "      <td>NaN</td>\n",
              "      <td>S</td>\n",
              "    </tr>\n",
              "    <tr>\n",
              "      <th>1</th>\n",
              "      <td>2</td>\n",
              "      <td>1</td>\n",
              "      <td>1</td>\n",
              "      <td>Cumings, Mrs. John Bradley (Florence Briggs Th...</td>\n",
              "      <td>female</td>\n",
              "      <td>38.0</td>\n",
              "      <td>1</td>\n",
              "      <td>0</td>\n",
              "      <td>PC 17599</td>\n",
              "      <td>71.2833</td>\n",
              "      <td>C85</td>\n",
              "      <td>C</td>\n",
              "    </tr>\n",
              "    <tr>\n",
              "      <th>2</th>\n",
              "      <td>3</td>\n",
              "      <td>1</td>\n",
              "      <td>3</td>\n",
              "      <td>Heikkinen, Miss. Laina</td>\n",
              "      <td>female</td>\n",
              "      <td>26.0</td>\n",
              "      <td>0</td>\n",
              "      <td>0</td>\n",
              "      <td>STON/O2. 3101282</td>\n",
              "      <td>7.9250</td>\n",
              "      <td>NaN</td>\n",
              "      <td>S</td>\n",
              "    </tr>\n",
              "    <tr>\n",
              "      <th>3</th>\n",
              "      <td>4</td>\n",
              "      <td>1</td>\n",
              "      <td>1</td>\n",
              "      <td>Futrelle, Mrs. Jacques Heath (Lily May Peel)</td>\n",
              "      <td>female</td>\n",
              "      <td>35.0</td>\n",
              "      <td>1</td>\n",
              "      <td>0</td>\n",
              "      <td>113803</td>\n",
              "      <td>53.1000</td>\n",
              "      <td>C123</td>\n",
              "      <td>S</td>\n",
              "    </tr>\n",
              "    <tr>\n",
              "      <th>4</th>\n",
              "      <td>5</td>\n",
              "      <td>0</td>\n",
              "      <td>3</td>\n",
              "      <td>Allen, Mr. William Henry</td>\n",
              "      <td>male</td>\n",
              "      <td>35.0</td>\n",
              "      <td>0</td>\n",
              "      <td>0</td>\n",
              "      <td>373450</td>\n",
              "      <td>8.0500</td>\n",
              "      <td>NaN</td>\n",
              "      <td>S</td>\n",
              "    </tr>\n",
              "  </tbody>\n",
              "</table>\n",
              "</div>\n",
              "      <button class=\"colab-df-convert\" onclick=\"convertToInteractive('df-350d7915-f9ee-4656-b2a8-6142692e8b06')\"\n",
              "              title=\"Convert this dataframe to an interactive table.\"\n",
              "              style=\"display:none;\">\n",
              "        \n",
              "  <svg xmlns=\"http://www.w3.org/2000/svg\" height=\"24px\"viewBox=\"0 0 24 24\"\n",
              "       width=\"24px\">\n",
              "    <path d=\"M0 0h24v24H0V0z\" fill=\"none\"/>\n",
              "    <path d=\"M18.56 5.44l.94 2.06.94-2.06 2.06-.94-2.06-.94-.94-2.06-.94 2.06-2.06.94zm-11 1L8.5 8.5l.94-2.06 2.06-.94-2.06-.94L8.5 2.5l-.94 2.06-2.06.94zm10 10l.94 2.06.94-2.06 2.06-.94-2.06-.94-.94-2.06-.94 2.06-2.06.94z\"/><path d=\"M17.41 7.96l-1.37-1.37c-.4-.4-.92-.59-1.43-.59-.52 0-1.04.2-1.43.59L10.3 9.45l-7.72 7.72c-.78.78-.78 2.05 0 2.83L4 21.41c.39.39.9.59 1.41.59.51 0 1.02-.2 1.41-.59l7.78-7.78 2.81-2.81c.8-.78.8-2.07 0-2.86zM5.41 20L4 18.59l7.72-7.72 1.47 1.35L5.41 20z\"/>\n",
              "  </svg>\n",
              "      </button>\n",
              "      \n",
              "  <style>\n",
              "    .colab-df-container {\n",
              "      display:flex;\n",
              "      flex-wrap:wrap;\n",
              "      gap: 12px;\n",
              "    }\n",
              "\n",
              "    .colab-df-convert {\n",
              "      background-color: #E8F0FE;\n",
              "      border: none;\n",
              "      border-radius: 50%;\n",
              "      cursor: pointer;\n",
              "      display: none;\n",
              "      fill: #1967D2;\n",
              "      height: 32px;\n",
              "      padding: 0 0 0 0;\n",
              "      width: 32px;\n",
              "    }\n",
              "\n",
              "    .colab-df-convert:hover {\n",
              "      background-color: #E2EBFA;\n",
              "      box-shadow: 0px 1px 2px rgba(60, 64, 67, 0.3), 0px 1px 3px 1px rgba(60, 64, 67, 0.15);\n",
              "      fill: #174EA6;\n",
              "    }\n",
              "\n",
              "    [theme=dark] .colab-df-convert {\n",
              "      background-color: #3B4455;\n",
              "      fill: #D2E3FC;\n",
              "    }\n",
              "\n",
              "    [theme=dark] .colab-df-convert:hover {\n",
              "      background-color: #434B5C;\n",
              "      box-shadow: 0px 1px 3px 1px rgba(0, 0, 0, 0.15);\n",
              "      filter: drop-shadow(0px 1px 2px rgba(0, 0, 0, 0.3));\n",
              "      fill: #FFFFFF;\n",
              "    }\n",
              "  </style>\n",
              "\n",
              "      <script>\n",
              "        const buttonEl =\n",
              "          document.querySelector('#df-350d7915-f9ee-4656-b2a8-6142692e8b06 button.colab-df-convert');\n",
              "        buttonEl.style.display =\n",
              "          google.colab.kernel.accessAllowed ? 'block' : 'none';\n",
              "\n",
              "        async function convertToInteractive(key) {\n",
              "          const element = document.querySelector('#df-350d7915-f9ee-4656-b2a8-6142692e8b06');\n",
              "          const dataTable =\n",
              "            await google.colab.kernel.invokeFunction('convertToInteractive',\n",
              "                                                     [key], {});\n",
              "          if (!dataTable) return;\n",
              "\n",
              "          const docLinkHtml = 'Like what you see? Visit the ' +\n",
              "            '<a target=\"_blank\" href=https://colab.research.google.com/notebooks/data_table.ipynb>data table notebook</a>'\n",
              "            + ' to learn more about interactive tables.';\n",
              "          element.innerHTML = '';\n",
              "          dataTable['output_type'] = 'display_data';\n",
              "          await google.colab.output.renderOutput(dataTable, element);\n",
              "          const docLink = document.createElement('div');\n",
              "          docLink.innerHTML = docLinkHtml;\n",
              "          element.appendChild(docLink);\n",
              "        }\n",
              "      </script>\n",
              "    </div>\n",
              "  </div>\n",
              "  "
            ]
          },
          "metadata": {},
          "execution_count": 7
        }
      ]
    },
    {
      "cell_type": "code",
      "source": [
        "df.info()\n"
      ],
      "metadata": {
        "id": "r_c3K69uyyzP",
        "colab": {
          "base_uri": "https://localhost:8080/"
        },
        "outputId": "f30114a4-a5cd-4822-89c7-029a07a0213f"
      },
      "execution_count": 8,
      "outputs": [
        {
          "output_type": "stream",
          "name": "stdout",
          "text": [
            "<class 'pandas.core.frame.DataFrame'>\n",
            "RangeIndex: 891 entries, 0 to 890\n",
            "Data columns (total 12 columns):\n",
            " #   Column       Non-Null Count  Dtype  \n",
            "---  ------       --------------  -----  \n",
            " 0   PassengerId  891 non-null    int64  \n",
            " 1   Survived     891 non-null    int64  \n",
            " 2   Pclass       891 non-null    int64  \n",
            " 3   Name         891 non-null    object \n",
            " 4   Sex          891 non-null    object \n",
            " 5   Age          714 non-null    float64\n",
            " 6   SibSp        891 non-null    int64  \n",
            " 7   Parch        891 non-null    int64  \n",
            " 8   Ticket       891 non-null    object \n",
            " 9   Fare         891 non-null    float64\n",
            " 10  Cabin        204 non-null    object \n",
            " 11  Embarked     889 non-null    object \n",
            "dtypes: float64(2), int64(5), object(5)\n",
            "memory usage: 83.7+ KB\n"
          ]
        }
      ]
    },
    {
      "cell_type": "markdown",
      "source": [
        "***Answers***\n",
        "\n",
        "*Numerical*: `PassengerID`, `Age`, `Faire`, `SibSp` (number of siblings/spouses), `Parch `(number of parents/childs).\n",
        "\n",
        "*Categorical*: `PClass`, `Sex`, `Cabin`, `Embarked` (port: C = Cherbourg, Q = Queenstown, \n",
        "S = Southampton)\n",
        "\n",
        "*Missing data:* 177 passengers' ages are unknown. We only know the cabin of 204 passengers. We don't know of 2 passengers' embarking port.\n"
      ],
      "metadata": {
        "id": "2qYMGSXM3Ekv"
      }
    },
    {
      "cell_type": "code",
      "execution_count": 9,
      "metadata": {
        "id": "4LigqQrx6-8L",
        "colab": {
          "base_uri": "https://localhost:8080/",
          "height": 173
        },
        "outputId": "43495047-8386-4c4e-a2f3-5a38e968d4ba"
      },
      "outputs": [
        {
          "output_type": "execute_result",
          "data": {
            "text/plain": [
              "        PassengerId  Survived        Age     SibSp     Parch       Fare\n",
              "Pclass                                                                 \n",
              "1        461.597222  0.629630  38.233441  0.416667  0.356481  84.154687\n",
              "2        445.956522  0.472826  29.877630  0.402174  0.380435  20.662183\n",
              "3        439.154786  0.242363  25.140620  0.615071  0.393075  13.675550"
            ],
            "text/html": [
              "\n",
              "  <div id=\"df-c9ebb24e-8432-4f62-9df5-26b2d34fd313\">\n",
              "    <div class=\"colab-df-container\">\n",
              "      <div>\n",
              "<style scoped>\n",
              "    .dataframe tbody tr th:only-of-type {\n",
              "        vertical-align: middle;\n",
              "    }\n",
              "\n",
              "    .dataframe tbody tr th {\n",
              "        vertical-align: top;\n",
              "    }\n",
              "\n",
              "    .dataframe thead th {\n",
              "        text-align: right;\n",
              "    }\n",
              "</style>\n",
              "<table border=\"1\" class=\"dataframe\">\n",
              "  <thead>\n",
              "    <tr style=\"text-align: right;\">\n",
              "      <th></th>\n",
              "      <th>PassengerId</th>\n",
              "      <th>Survived</th>\n",
              "      <th>Age</th>\n",
              "      <th>SibSp</th>\n",
              "      <th>Parch</th>\n",
              "      <th>Fare</th>\n",
              "    </tr>\n",
              "    <tr>\n",
              "      <th>Pclass</th>\n",
              "      <th></th>\n",
              "      <th></th>\n",
              "      <th></th>\n",
              "      <th></th>\n",
              "      <th></th>\n",
              "      <th></th>\n",
              "    </tr>\n",
              "  </thead>\n",
              "  <tbody>\n",
              "    <tr>\n",
              "      <th>1</th>\n",
              "      <td>461.597222</td>\n",
              "      <td>0.629630</td>\n",
              "      <td>38.233441</td>\n",
              "      <td>0.416667</td>\n",
              "      <td>0.356481</td>\n",
              "      <td>84.154687</td>\n",
              "    </tr>\n",
              "    <tr>\n",
              "      <th>2</th>\n",
              "      <td>445.956522</td>\n",
              "      <td>0.472826</td>\n",
              "      <td>29.877630</td>\n",
              "      <td>0.402174</td>\n",
              "      <td>0.380435</td>\n",
              "      <td>20.662183</td>\n",
              "    </tr>\n",
              "    <tr>\n",
              "      <th>3</th>\n",
              "      <td>439.154786</td>\n",
              "      <td>0.242363</td>\n",
              "      <td>25.140620</td>\n",
              "      <td>0.615071</td>\n",
              "      <td>0.393075</td>\n",
              "      <td>13.675550</td>\n",
              "    </tr>\n",
              "  </tbody>\n",
              "</table>\n",
              "</div>\n",
              "      <button class=\"colab-df-convert\" onclick=\"convertToInteractive('df-c9ebb24e-8432-4f62-9df5-26b2d34fd313')\"\n",
              "              title=\"Convert this dataframe to an interactive table.\"\n",
              "              style=\"display:none;\">\n",
              "        \n",
              "  <svg xmlns=\"http://www.w3.org/2000/svg\" height=\"24px\"viewBox=\"0 0 24 24\"\n",
              "       width=\"24px\">\n",
              "    <path d=\"M0 0h24v24H0V0z\" fill=\"none\"/>\n",
              "    <path d=\"M18.56 5.44l.94 2.06.94-2.06 2.06-.94-2.06-.94-.94-2.06-.94 2.06-2.06.94zm-11 1L8.5 8.5l.94-2.06 2.06-.94-2.06-.94L8.5 2.5l-.94 2.06-2.06.94zm10 10l.94 2.06.94-2.06 2.06-.94-2.06-.94-.94-2.06-.94 2.06-2.06.94z\"/><path d=\"M17.41 7.96l-1.37-1.37c-.4-.4-.92-.59-1.43-.59-.52 0-1.04.2-1.43.59L10.3 9.45l-7.72 7.72c-.78.78-.78 2.05 0 2.83L4 21.41c.39.39.9.59 1.41.59.51 0 1.02-.2 1.41-.59l7.78-7.78 2.81-2.81c.8-.78.8-2.07 0-2.86zM5.41 20L4 18.59l7.72-7.72 1.47 1.35L5.41 20z\"/>\n",
              "  </svg>\n",
              "      </button>\n",
              "      \n",
              "  <style>\n",
              "    .colab-df-container {\n",
              "      display:flex;\n",
              "      flex-wrap:wrap;\n",
              "      gap: 12px;\n",
              "    }\n",
              "\n",
              "    .colab-df-convert {\n",
              "      background-color: #E8F0FE;\n",
              "      border: none;\n",
              "      border-radius: 50%;\n",
              "      cursor: pointer;\n",
              "      display: none;\n",
              "      fill: #1967D2;\n",
              "      height: 32px;\n",
              "      padding: 0 0 0 0;\n",
              "      width: 32px;\n",
              "    }\n",
              "\n",
              "    .colab-df-convert:hover {\n",
              "      background-color: #E2EBFA;\n",
              "      box-shadow: 0px 1px 2px rgba(60, 64, 67, 0.3), 0px 1px 3px 1px rgba(60, 64, 67, 0.15);\n",
              "      fill: #174EA6;\n",
              "    }\n",
              "\n",
              "    [theme=dark] .colab-df-convert {\n",
              "      background-color: #3B4455;\n",
              "      fill: #D2E3FC;\n",
              "    }\n",
              "\n",
              "    [theme=dark] .colab-df-convert:hover {\n",
              "      background-color: #434B5C;\n",
              "      box-shadow: 0px 1px 3px 1px rgba(0, 0, 0, 0.15);\n",
              "      filter: drop-shadow(0px 1px 2px rgba(0, 0, 0, 0.3));\n",
              "      fill: #FFFFFF;\n",
              "    }\n",
              "  </style>\n",
              "\n",
              "      <script>\n",
              "        const buttonEl =\n",
              "          document.querySelector('#df-c9ebb24e-8432-4f62-9df5-26b2d34fd313 button.colab-df-convert');\n",
              "        buttonEl.style.display =\n",
              "          google.colab.kernel.accessAllowed ? 'block' : 'none';\n",
              "\n",
              "        async function convertToInteractive(key) {\n",
              "          const element = document.querySelector('#df-c9ebb24e-8432-4f62-9df5-26b2d34fd313');\n",
              "          const dataTable =\n",
              "            await google.colab.kernel.invokeFunction('convertToInteractive',\n",
              "                                                     [key], {});\n",
              "          if (!dataTable) return;\n",
              "\n",
              "          const docLinkHtml = 'Like what you see? Visit the ' +\n",
              "            '<a target=\"_blank\" href=https://colab.research.google.com/notebooks/data_table.ipynb>data table notebook</a>'\n",
              "            + ' to learn more about interactive tables.';\n",
              "          element.innerHTML = '';\n",
              "          dataTable['output_type'] = 'display_data';\n",
              "          await google.colab.output.renderOutput(dataTable, element);\n",
              "          const docLink = document.createElement('div');\n",
              "          docLink.innerHTML = docLinkHtml;\n",
              "          element.appendChild(docLink);\n",
              "        }\n",
              "      </script>\n",
              "    </div>\n",
              "  </div>\n",
              "  "
            ]
          },
          "metadata": {},
          "execution_count": 9
        }
      ],
      "source": [
        "# Using the df.groupby(\"Pclass\"), comment about the nature of the passengers as a function of the class ticket (first, second or third class) \n",
        "df.groupby(\"Pclass\").mean()"
      ]
    },
    {
      "cell_type": "markdown",
      "source": [
        "We notice the following trends: \n",
        "\n",
        "1. We can see that the passengers are older as the class gets higher (which is reasonable, as older people had more wealth to afford higher class tickets).\n",
        "\n",
        "2. The fare obviously increases depending on the class.\n",
        "\n",
        "3. People from higher classes had a better chance of survival overall. This can be attributed to them having priority during the evacuation. \n",
        "\n",
        "4. On average, people from the third class traveled with one family member (Sibling, spouse, parent, or children). The average number of companions decreases as the class increases.\n",
        "\n"
      ],
      "metadata": {
        "id": "cFF1e3dv875h"
      }
    },
    {
      "cell_type": "code",
      "source": [
        "# Plot the histogram of Passenger's classes\n",
        "df['Pclass'].hist()"
      ],
      "metadata": {
        "id": "Ckp1ctVS26LX",
        "colab": {
          "base_uri": "https://localhost:8080/",
          "height": 282
        },
        "outputId": "dcd16192-0b56-407c-8555-860cab3e4449"
      },
      "execution_count": 10,
      "outputs": [
        {
          "output_type": "execute_result",
          "data": {
            "text/plain": [
              "<AxesSubplot:>"
            ]
          },
          "metadata": {},
          "execution_count": 10
        },
        {
          "output_type": "display_data",
          "data": {
            "text/plain": [
              "<Figure size 432x288 with 1 Axes>"
            ],
            "image/png": "[encoded data removed]"
          },
          "metadata": {
            "needs_background": "light"
          }
        }
      ]
    },
    {
      "cell_type": "code",
      "execution_count": 11,
      "metadata": {
        "id": "CgZL1nAn6-8N",
        "colab": {
          "base_uri": "https://localhost:8080/",
          "height": 142
        },
        "outputId": "3981ba48-a88e-4846-ba97-e565fcc7f87e"
      },
      "outputs": [
        {
          "output_type": "execute_result",
          "data": {
            "text/plain": [
              "        Survived\n",
              "Sex             \n",
              "female  0.742038\n",
              "male    0.188908"
            ],
            "text/html": [
              "\n",
              "  <div id=\"df-9a123e35-fe78-4647-bfa0-dc55c6ca5230\">\n",
              "    <div class=\"colab-df-container\">\n",
              "      <div>\n",
              "<style scoped>\n",
              "    .dataframe tbody tr th:only-of-type {\n",
              "        vertical-align: middle;\n",
              "    }\n",
              "\n",
              "    .dataframe tbody tr th {\n",
              "        vertical-align: top;\n",
              "    }\n",
              "\n",
              "    .dataframe thead th {\n",
              "        text-align: right;\n",
              "    }\n",
              "</style>\n",
              "<table border=\"1\" class=\"dataframe\">\n",
              "  <thead>\n",
              "    <tr style=\"text-align: right;\">\n",
              "      <th></th>\n",
              "      <th>Survived</th>\n",
              "    </tr>\n",
              "    <tr>\n",
              "      <th>Sex</th>\n",
              "      <th></th>\n",
              "    </tr>\n",
              "  </thead>\n",
              "  <tbody>\n",
              "    <tr>\n",
              "      <th>female</th>\n",
              "      <td>0.742038</td>\n",
              "    </tr>\n",
              "    <tr>\n",
              "      <th>male</th>\n",
              "      <td>0.188908</td>\n",
              "    </tr>\n",
              "  </tbody>\n",
              "</table>\n",
              "</div>\n",
              "      <button class=\"colab-df-convert\" onclick=\"convertToInteractive('df-9a123e35-fe78-4647-bfa0-dc55c6ca5230')\"\n",
              "              title=\"Convert this dataframe to an interactive table.\"\n",
              "              style=\"display:none;\">\n",
              "        \n",
              "  <svg xmlns=\"http://www.w3.org/2000/svg\" height=\"24px\"viewBox=\"0 0 24 24\"\n",
              "       width=\"24px\">\n",
              "    <path d=\"M0 0h24v24H0V0z\" fill=\"none\"/>\n",
              "    <path d=\"M18.56 5.44l.94 2.06.94-2.06 2.06-.94-2.06-.94-.94-2.06-.94 2.06-2.06.94zm-11 1L8.5 8.5l.94-2.06 2.06-.94-2.06-.94L8.5 2.5l-.94 2.06-2.06.94zm10 10l.94 2.06.94-2.06 2.06-.94-2.06-.94-.94-2.06-.94 2.06-2.06.94z\"/><path d=\"M17.41 7.96l-1.37-1.37c-.4-.4-.92-.59-1.43-.59-.52 0-1.04.2-1.43.59L10.3 9.45l-7.72 7.72c-.78.78-.78 2.05 0 2.83L4 21.41c.39.39.9.59 1.41.59.51 0 1.02-.2 1.41-.59l7.78-7.78 2.81-2.81c.8-.78.8-2.07 0-2.86zM5.41 20L4 18.59l7.72-7.72 1.47 1.35L5.41 20z\"/>\n",
              "  </svg>\n",
              "      </button>\n",
              "      \n",
              "  <style>\n",
              "    .colab-df-container {\n",
              "      display:flex;\n",
              "      flex-wrap:wrap;\n",
              "      gap: 12px;\n",
              "    }\n",
              "\n",
              "    .colab-df-convert {\n",
              "      background-color: #E8F0FE;\n",
              "      border: none;\n",
              "      border-radius: 50%;\n",
              "      cursor: pointer;\n",
              "      display: none;\n",
              "      fill: #1967D2;\n",
              "      height: 32px;\n",
              "      padding: 0 0 0 0;\n",
              "      width: 32px;\n",
              "    }\n",
              "\n",
              "    .colab-df-convert:hover {\n",
              "      background-color: #E2EBFA;\n",
              "      box-shadow: 0px 1px 2px rgba(60, 64, 67, 0.3), 0px 1px 3px 1px rgba(60, 64, 67, 0.15);\n",
              "      fill: #174EA6;\n",
              "    }\n",
              "\n",
              "    [theme=dark] .colab-df-convert {\n",
              "      background-color: #3B4455;\n",
              "      fill: #D2E3FC;\n",
              "    }\n",
              "\n",
              "    [theme=dark] .colab-df-convert:hover {\n",
              "      background-color: #434B5C;\n",
              "      box-shadow: 0px 1px 3px 1px rgba(0, 0, 0, 0.15);\n",
              "      filter: drop-shadow(0px 1px 2px rgba(0, 0, 0, 0.3));\n",
              "      fill: #FFFFFF;\n",
              "    }\n",
              "  </style>\n",
              "\n",
              "      <script>\n",
              "        const buttonEl =\n",
              "          document.querySelector('#df-9a123e35-fe78-4647-bfa0-dc55c6ca5230 button.colab-df-convert');\n",
              "        buttonEl.style.display =\n",
              "          google.colab.kernel.accessAllowed ? 'block' : 'none';\n",
              "\n",
              "        async function convertToInteractive(key) {\n",
              "          const element = document.querySelector('#df-9a123e35-fe78-4647-bfa0-dc55c6ca5230');\n",
              "          const dataTable =\n",
              "            await google.colab.kernel.invokeFunction('convertToInteractive',\n",
              "                                                     [key], {});\n",
              "          if (!dataTable) return;\n",
              "\n",
              "          const docLinkHtml = 'Like what you see? Visit the ' +\n",
              "            '<a target=\"_blank\" href=https://colab.research.google.com/notebooks/data_table.ipynb>data table notebook</a>'\n",
              "            + ' to learn more about interactive tables.';\n",
              "          element.innerHTML = '';\n",
              "          dataTable['output_type'] = 'display_data';\n",
              "          await google.colab.output.renderOutput(dataTable, element);\n",
              "          const docLink = document.createElement('div');\n",
              "          docLink.innerHTML = docLinkHtml;\n",
              "          element.appendChild(docLink);\n",
              "        }\n",
              "      </script>\n",
              "    </div>\n",
              "  </div>\n",
              "  "
            ]
          },
          "metadata": {},
          "execution_count": 11
        }
      ],
      "source": [
        "# Comment about the impact of the sex of passengers\n",
        "df[[\"Survived\", \"Sex\"]].groupby(\"Sex\").mean()"
      ]
    },
    {
      "cell_type": "markdown",
      "source": [
        "We can see female passengers were much more likely to survive. This can bee attributed to the Birkenhead drill that occured during the evacuation. The Birkenhead drill is a code of conduct whereby the lives of women and children were to be saved first in a life-threatening situation, typically abandoning ship, when survival resources such as lifeboats were limited. "
      ],
      "metadata": {
        "id": "6CIz8wC7fsfR"
      }
    },
    {
      "cell_type": "code",
      "execution_count": 12,
      "metadata": {
        "id": "173WtkBy6-8O",
        "colab": {
          "base_uri": "https://localhost:8080/",
          "height": 173
        },
        "outputId": "2bc0310a-ab92-424a-a361-1b63dc0b2d63"
      },
      "outputs": [
        {
          "output_type": "execute_result",
          "data": {
            "text/plain": [
              "          Survived\n",
              "Embarked          \n",
              "C         0.553571\n",
              "Q         0.389610\n",
              "S         0.336957"
            ],
            "text/html": [
              "\n",
              "  <div id=\"df-14f14c7e-8852-4d71-9b91-f410fcae218c\">\n",
              "    <div class=\"colab-df-container\">\n",
              "      <div>\n",
              "<style scoped>\n",
              "    .dataframe tbody tr th:only-of-type {\n",
              "        vertical-align: middle;\n",
              "    }\n",
              "\n",
              "    .dataframe tbody tr th {\n",
              "        vertical-align: top;\n",
              "    }\n",
              "\n",
              "    .dataframe thead th {\n",
              "        text-align: right;\n",
              "    }\n",
              "</style>\n",
              "<table border=\"1\" class=\"dataframe\">\n",
              "  <thead>\n",
              "    <tr style=\"text-align: right;\">\n",
              "      <th></th>\n",
              "      <th>Survived</th>\n",
              "    </tr>\n",
              "    <tr>\n",
              "      <th>Embarked</th>\n",
              "      <th></th>\n",
              "    </tr>\n",
              "  </thead>\n",
              "  <tbody>\n",
              "    <tr>\n",
              "      <th>C</th>\n",
              "      <td>0.553571</td>\n",
              "    </tr>\n",
              "    <tr>\n",
              "      <th>Q</th>\n",
              "      <td>0.389610</td>\n",
              "    </tr>\n",
              "    <tr>\n",
              "      <th>S</th>\n",
              "      <td>0.336957</td>\n",
              "    </tr>\n",
              "  </tbody>\n",
              "</table>\n",
              "</div>\n",
              "      <button class=\"colab-df-convert\" onclick=\"convertToInteractive('df-14f14c7e-8852-4d71-9b91-f410fcae218c')\"\n",
              "              title=\"Convert this dataframe to an interactive table.\"\n",
              "              style=\"display:none;\">\n",
              "        \n",
              "  <svg xmlns=\"http://www.w3.org/2000/svg\" height=\"24px\"viewBox=\"0 0 24 24\"\n",
              "       width=\"24px\">\n",
              "    <path d=\"M0 0h24v24H0V0z\" fill=\"none\"/>\n",
              "    <path d=\"M18.56 5.44l.94 2.06.94-2.06 2.06-.94-2.06-.94-.94-2.06-.94 2.06-2.06.94zm-11 1L8.5 8.5l.94-2.06 2.06-.94-2.06-.94L8.5 2.5l-.94 2.06-2.06.94zm10 10l.94 2.06.94-2.06 2.06-.94-2.06-.94-.94-2.06-.94 2.06-2.06.94z\"/><path d=\"M17.41 7.96l-1.37-1.37c-.4-.4-.92-.59-1.43-.59-.52 0-1.04.2-1.43.59L10.3 9.45l-7.72 7.72c-.78.78-.78 2.05 0 2.83L4 21.41c.39.39.9.59 1.41.59.51 0 1.02-.2 1.41-.59l7.78-7.78 2.81-2.81c.8-.78.8-2.07 0-2.86zM5.41 20L4 18.59l7.72-7.72 1.47 1.35L5.41 20z\"/>\n",
              "  </svg>\n",
              "      </button>\n",
              "      \n",
              "  <style>\n",
              "    .colab-df-container {\n",
              "      display:flex;\n",
              "      flex-wrap:wrap;\n",
              "      gap: 12px;\n",
              "    }\n",
              "\n",
              "    .colab-df-convert {\n",
              "      background-color: #E8F0FE;\n",
              "      border: none;\n",
              "      border-radius: 50%;\n",
              "      cursor: pointer;\n",
              "      display: none;\n",
              "      fill: #1967D2;\n",
              "      height: 32px;\n",
              "      padding: 0 0 0 0;\n",
              "      width: 32px;\n",
              "    }\n",
              "\n",
              "    .colab-df-convert:hover {\n",
              "      background-color: #E2EBFA;\n",
              "      box-shadow: 0px 1px 2px rgba(60, 64, 67, 0.3), 0px 1px 3px 1px rgba(60, 64, 67, 0.15);\n",
              "      fill: #174EA6;\n",
              "    }\n",
              "\n",
              "    [theme=dark] .colab-df-convert {\n",
              "      background-color: #3B4455;\n",
              "      fill: #D2E3FC;\n",
              "    }\n",
              "\n",
              "    [theme=dark] .colab-df-convert:hover {\n",
              "      background-color: #434B5C;\n",
              "      box-shadow: 0px 1px 3px 1px rgba(0, 0, 0, 0.15);\n",
              "      filter: drop-shadow(0px 1px 2px rgba(0, 0, 0, 0.3));\n",
              "      fill: #FFFFFF;\n",
              "    }\n",
              "  </style>\n",
              "\n",
              "      <script>\n",
              "        const buttonEl =\n",
              "          document.querySelector('#df-14f14c7e-8852-4d71-9b91-f410fcae218c button.colab-df-convert');\n",
              "        buttonEl.style.display =\n",
              "          google.colab.kernel.accessAllowed ? 'block' : 'none';\n",
              "\n",
              "        async function convertToInteractive(key) {\n",
              "          const element = document.querySelector('#df-14f14c7e-8852-4d71-9b91-f410fcae218c');\n",
              "          const dataTable =\n",
              "            await google.colab.kernel.invokeFunction('convertToInteractive',\n",
              "                                                     [key], {});\n",
              "          if (!dataTable) return;\n",
              "\n",
              "          const docLinkHtml = 'Like what you see? Visit the ' +\n",
              "            '<a target=\"_blank\" href=https://colab.research.google.com/notebooks/data_table.ipynb>data table notebook</a>'\n",
              "            + ' to learn more about interactive tables.';\n",
              "          element.innerHTML = '';\n",
              "          dataTable['output_type'] = 'display_data';\n",
              "          await google.colab.output.renderOutput(dataTable, element);\n",
              "          const docLink = document.createElement('div');\n",
              "          docLink.innerHTML = docLinkHtml;\n",
              "          element.appendChild(docLink);\n",
              "        }\n",
              "      </script>\n",
              "    </div>\n",
              "  </div>\n",
              "  "
            ]
          },
          "metadata": {},
          "execution_count": 12
        }
      ],
      "source": [
        "# Comment about the impact of the embarkation city. How do you explain the discrepancies in survival rate?\n",
        "df[[\"Embarked\", \"Survived\"]].groupby(\"Embarked\").mean()"
      ]
    },
    {
      "cell_type": "markdown",
      "source": [
        "As we will see in the histograms 3 cells below, a greater percentage of first class passengers embarked in port C (roughly 50%). Additionally, a sizable portion of those embarked in C were females. \n",
        "\n",
        "In port Q, there were also high class passengers, but mostly men. That explain its low survival rate.\n",
        "\n",
        "In port S, there were mostly lower class men.\n",
        "\n",
        "We have seen before (and will see below) that class and sex were the most correlated factors to the survival of the passengers."
      ],
      "metadata": {
        "id": "Ma-c90QDgkQ6"
      }
    },
    {
      "cell_type": "code",
      "source": [
        "#Plot the histogram of the number of men in each class. Do the same for men. Comment.\n",
        "df[df['Sex'] == \"male\"].Pclass.hist()\n",
        "df[df['Sex'] == \"female\"].Pclass.hist()"
      ],
      "metadata": {
        "id": "oPB8cvTk6WEE",
        "colab": {
          "base_uri": "https://localhost:8080/",
          "height": 282
        },
        "outputId": "2b63663c-c1db-4d83-e225-a4a58b831608"
      },
      "execution_count": 13,
      "outputs": [
        {
          "output_type": "execute_result",
          "data": {
            "text/plain": [
              "<AxesSubplot:>"
            ]
          },
          "metadata": {},
          "execution_count": 13
        },
        {
          "output_type": "display_data",
          "data": {
            "text/plain": [
              "<Figure size 432x288 with 1 Axes>"
            ],
            "image/png": "[encoded data removed]"
          },
          "metadata": {
            "needs_background": "light"
          }
        }
      ]
    },
    {
      "cell_type": "markdown",
      "source": [
        "The higher the class, the lower the female:male lower. This is reasonable. Back in the 1912, male dominated most of the wealth and were able to afford the more expensive tickets. As mentioned previously, people in the first class had on average less companions with them. So men traveled without their spouses. That might explain the lower ratios.\n"
      ],
      "metadata": {
        "id": "2493ZJvAiucu"
      }
    },
    {
      "cell_type": "code",
      "source": [
        "# Comment briefly the following code\n",
        "sns.relplot(data=df,x=\"Fare\", y=\"Age\",hue=\"Survived\")"
      ],
      "metadata": {
        "id": "RJnwP40j-kfQ",
        "colab": {
          "base_uri": "https://localhost:8080/",
          "height": 386
        },
        "outputId": "753171a0-f7fa-4233-c626-c2024b4ed5c4"
      },
      "execution_count": 14,
      "outputs": [
        {
          "output_type": "execute_result",
          "data": {
            "text/plain": [
              "<seaborn.axisgrid.FacetGrid at 0x7f7108e10730>"
            ]
          },
          "metadata": {},
          "execution_count": 14
        },
        {
          "output_type": "display_data",
          "data": {
            "text/plain": [
              "<Figure size 411.875x360 with 1 Axes>"
            ],
            "image/png": "[encoded data removed]"
          },
          "metadata": {
            "needs_background": "light"
          }
        }
      ]
    },
    {
      "cell_type": "markdown",
      "source": [
        "No pattern is immediately obvious. We can see that the survivors density increases with the ticket fare. The fare is almost equivalent to the passenger class, so the correlation makes sense."
      ],
      "metadata": {
        "id": "OPlD2bT_kMwZ"
      }
    },
    {
      "cell_type": "code",
      "source": [
        "# In case you believe that other plots are interesting to vizualize the data set, you can provide them here.\n",
        "\n",
        "#information about the demographical and class distribution in embarcation ports\n",
        "sns.displot(df, x=\"Embarked\", hue=\"Pclass\", palette = \"flare\", multiple=\"stack\")\n",
        "sns.displot(df, x=\"Embarked\", hue=\"Sex\", palette = \"flare\", multiple=\"stack\")"
      ],
      "metadata": {
        "id": "XAoh-Y1g4vw8",
        "colab": {
          "base_uri": "https://localhost:8080/",
          "height": 738
        },
        "outputId": "ad507511-0376-43e9-f927-e169b9508cbb"
      },
      "execution_count": 15,
      "outputs": [
        {
          "output_type": "execute_result",
          "data": {
            "text/plain": [
              "<seaborn.axisgrid.FacetGrid at 0x7f7108c40bb0>"
            ]
          },
          "metadata": {},
          "execution_count": 15
        },
        {
          "output_type": "display_data",
          "data": {
            "text/plain": [
              "<Figure size 402.375x360 with 1 Axes>"
            ],
            "image/png": "[encoded data removed]"
          },
          "metadata": {
            "needs_background": "light"
          }
        },
        {
          "output_type": "display_data",
          "data": {
            "text/plain": [
              "<Figure size 430.5x360 with 1 Axes>"
            ],
            "image/png": "[encoded data removed]"
          },
          "metadata": {
            "needs_background": "light"
          }
        }
      ]
    },
    {
      "cell_type": "code",
      "execution_count": 16,
      "metadata": {
        "id": "ZyHK0_pG6-8Q"
      },
      "outputs": [],
      "source": [
        "\n",
        "#Removing the comment in the following line plots every numerical feature against\n",
        "#every other numerical feature. Each datapoint is colored based on the survival \n",
        "#of the passenger. \n",
        "\n",
        "#Generating the plot takes about 20 seconds.\n",
        "#sns.pairplot(df, hue=\"Survived\")"
      ]
    },
    {
      "cell_type": "markdown",
      "source": [
        "# Categorical encoding\n",
        "\n",
        "Certain columns (sex, embarked, etc.) are categorical. We need to transform them into numerical features."
      ],
      "metadata": {
        "id": "pssKmKCC_qKm"
      }
    },
    {
      "cell_type": "code",
      "source": [
        "# Create a new column \"Sex_num\" where the strings \"male\" and \"female\" are replaced by a binary integer.\n",
        "df[\"Sex_num\"] = (df[\"Sex\"]==\"male\").astype(\"int\") #That's ok because there is no missing data in the \"Sex\" column"
      ],
      "metadata": {
        "id": "cMpH7bx-AF85"
      },
      "execution_count": 17,
      "outputs": []
    },
    {
      "cell_type": "code",
      "source": [
        "# What is the following code doing?\n",
        "ports = pd.get_dummies(df['Embarked'])"
      ],
      "metadata": {
        "id": "elJwhJPNBJru"
      },
      "execution_count": 18,
      "outputs": []
    },
    {
      "cell_type": "markdown",
      "source": [
        "The code above splits the categorical feature \"Embarked\" (which can take 3 values: 'C', 'Q', 'S') into 3 boolean features. Each boolean is associated with one value. \n",
        "\n",
        "'C' will be equal to 100\n",
        "\n",
        "'Q' will be equal to 010\n",
        "\n",
        "'S' will be equal to 001\n"
      ],
      "metadata": {
        "id": "KrV2URI-l4tq"
      }
    },
    {
      "cell_type": "code",
      "source": [
        "# Using pd.get_dummies, create new columns in the dataframe df, one for each embarkation port\n",
        "ports = pd.get_dummies(df['Embarked'])\n",
        "print(ports)\n",
        "df[ports.columns] = ports"
      ],
      "metadata": {
        "id": "56hT28iOCMG3",
        "colab": {
          "base_uri": "https://localhost:8080/"
        },
        "outputId": "464b7782-1e6b-4935-cd1b-73b8e8aad385"
      },
      "execution_count": 19,
      "outputs": [
        {
          "output_type": "stream",
          "name": "stdout",
          "text": [
            "     C  Q  S\n",
            "0    0  0  1\n",
            "1    1  0  0\n",
            "2    0  0  1\n",
            "3    0  0  1\n",
            "4    0  0  1\n",
            "..  .. .. ..\n",
            "886  0  0  1\n",
            "887  0  0  1\n",
            "888  0  0  1\n",
            "889  1  0  0\n",
            "890  0  1  0\n",
            "\n",
            "[891 rows x 3 columns]\n"
          ]
        }
      ]
    },
    {
      "cell_type": "code",
      "source": [
        "# We may drop the two columns \"Sex\" and \"Embarked\", as we now included their onehot counterparts in the dataframe. Check that the following code drops theses columns\n",
        "df.drop(columns=[\"Sex\",\"Embarked\"], inplace = True)\n"
      ],
      "metadata": {
        "id": "DfNWAo5uCsTx"
      },
      "execution_count": 20,
      "outputs": []
    },
    {
      "cell_type": "code",
      "source": [
        "# Use df.head(). Did the dropped column disappear? Solve possible issued using the argument inplace=True, in the drop method\n",
        "df.head()"
      ],
      "metadata": {
        "id": "Z7jd_UfyDfad",
        "colab": {
          "base_uri": "https://localhost:8080/",
          "height": 204
        },
        "outputId": "c5e7249d-c870-47b2-f8ea-c23389701aa8"
      },
      "execution_count": 21,
      "outputs": [
        {
          "output_type": "execute_result",
          "data": {
            "text/plain": [
              "   PassengerId  Survived  Pclass  \\\n",
              "0            1         0       3   \n",
              "1            2         1       1   \n",
              "2            3         1       3   \n",
              "3            4         1       1   \n",
              "4            5         0       3   \n",
              "\n",
              "                                                Name   Age  SibSp  Parch  \\\n",
              "0                            Braund, Mr. Owen Harris  22.0      1      0   \n",
              "1  Cumings, Mrs. John Bradley (Florence Briggs Th...  38.0      1      0   \n",
              "2                             Heikkinen, Miss. Laina  26.0      0      0   \n",
              "3       Futrelle, Mrs. Jacques Heath (Lily May Peel)  35.0      1      0   \n",
              "4                           Allen, Mr. William Henry  35.0      0      0   \n",
              "\n",
              "             Ticket     Fare Cabin  Sex_num  C  Q  S  \n",
              "0         A/5 21171   7.2500   NaN        1  0  0  1  \n",
              "1          PC 17599  71.2833   C85        0  1  0  0  \n",
              "2  STON/O2. 3101282   7.9250   NaN        0  0  0  1  \n",
              "3            113803  53.1000  C123        0  0  0  1  \n",
              "4            373450   8.0500   NaN        1  0  0  1  "
            ],
            "text/html": [
              "\n",
              "  <div id=\"df-00586864-f6c8-46a5-beb0-4022e170ea2b\">\n",
              "    <div class=\"colab-df-container\">\n",
              "      <div>\n",
              "<style scoped>\n",
              "    .dataframe tbody tr th:only-of-type {\n",
              "        vertical-align: middle;\n",
              "    }\n",
              "\n",
              "    .dataframe tbody tr th {\n",
              "        vertical-align: top;\n",
              "    }\n",
              "\n",
              "    .dataframe thead th {\n",
              "        text-align: right;\n",
              "    }\n",
              "</style>\n",
              "<table border=\"1\" class=\"dataframe\">\n",
              "  <thead>\n",
              "    <tr style=\"text-align: right;\">\n",
              "      <th></th>\n",
              "      <th>PassengerId</th>\n",
              "      <th>Survived</th>\n",
              "      <th>Pclass</th>\n",
              "      <th>Name</th>\n",
              "      <th>Age</th>\n",
              "      <th>SibSp</th>\n",
              "      <th>Parch</th>\n",
              "      <th>Ticket</th>\n",
              "      <th>Fare</th>\n",
              "      <th>Cabin</th>\n",
              "      <th>Sex_num</th>\n",
              "      <th>C</th>\n",
              "      <th>Q</th>\n",
              "      <th>S</th>\n",
              "    </tr>\n",
              "  </thead>\n",
              "  <tbody>\n",
              "    <tr>\n",
              "      <th>0</th>\n",
              "      <td>1</td>\n",
              "      <td>0</td>\n",
              "      <td>3</td>\n",
              "      <td>Braund, Mr. Owen Harris</td>\n",
              "      <td>22.0</td>\n",
              "      <td>1</td>\n",
              "      <td>0</td>\n",
              "      <td>A/5 21171</td>\n",
              "      <td>7.2500</td>\n",
              "      <td>NaN</td>\n",
              "      <td>1</td>\n",
              "      <td>0</td>\n",
              "      <td>0</td>\n",
              "      <td>1</td>\n",
              "    </tr>\n",
              "    <tr>\n",
              "      <th>1</th>\n",
              "      <td>2</td>\n",
              "      <td>1</td>\n",
              "      <td>1</td>\n",
              "      <td>Cumings, Mrs. John Bradley (Florence Briggs Th...</td>\n",
              "      <td>38.0</td>\n",
              "      <td>1</td>\n",
              "      <td>0</td>\n",
              "      <td>PC 17599</td>\n",
              "      <td>71.2833</td>\n",
              "      <td>C85</td>\n",
              "      <td>0</td>\n",
              "      <td>1</td>\n",
              "      <td>0</td>\n",
              "      <td>0</td>\n",
              "    </tr>\n",
              "    <tr>\n",
              "      <th>2</th>\n",
              "      <td>3</td>\n",
              "      <td>1</td>\n",
              "      <td>3</td>\n",
              "      <td>Heikkinen, Miss. Laina</td>\n",
              "      <td>26.0</td>\n",
              "      <td>0</td>\n",
              "      <td>0</td>\n",
              "      <td>STON/O2. 3101282</td>\n",
              "      <td>7.9250</td>\n",
              "      <td>NaN</td>\n",
              "      <td>0</td>\n",
              "      <td>0</td>\n",
              "      <td>0</td>\n",
              "      <td>1</td>\n",
              "    </tr>\n",
              "    <tr>\n",
              "      <th>3</th>\n",
              "      <td>4</td>\n",
              "      <td>1</td>\n",
              "      <td>1</td>\n",
              "      <td>Futrelle, Mrs. Jacques Heath (Lily May Peel)</td>\n",
              "      <td>35.0</td>\n",
              "      <td>1</td>\n",
              "      <td>0</td>\n",
              "      <td>113803</td>\n",
              "      <td>53.1000</td>\n",
              "      <td>C123</td>\n",
              "      <td>0</td>\n",
              "      <td>0</td>\n",
              "      <td>0</td>\n",
              "      <td>1</td>\n",
              "    </tr>\n",
              "    <tr>\n",
              "      <th>4</th>\n",
              "      <td>5</td>\n",
              "      <td>0</td>\n",
              "      <td>3</td>\n",
              "      <td>Allen, Mr. William Henry</td>\n",
              "      <td>35.0</td>\n",
              "      <td>0</td>\n",
              "      <td>0</td>\n",
              "      <td>373450</td>\n",
              "      <td>8.0500</td>\n",
              "      <td>NaN</td>\n",
              "      <td>1</td>\n",
              "      <td>0</td>\n",
              "      <td>0</td>\n",
              "      <td>1</td>\n",
              "    </tr>\n",
              "  </tbody>\n",
              "</table>\n",
              "</div>\n",
              "      <button class=\"colab-df-convert\" onclick=\"convertToInteractive('df-00586864-f6c8-46a5-beb0-4022e170ea2b')\"\n",
              "              title=\"Convert this dataframe to an interactive table.\"\n",
              "              style=\"display:none;\">\n",
              "        \n",
              "  <svg xmlns=\"http://www.w3.org/2000/svg\" height=\"24px\"viewBox=\"0 0 24 24\"\n",
              "       width=\"24px\">\n",
              "    <path d=\"M0 0h24v24H0V0z\" fill=\"none\"/>\n",
              "    <path d=\"M18.56 5.44l.94 2.06.94-2.06 2.06-.94-2.06-.94-.94-2.06-.94 2.06-2.06.94zm-11 1L8.5 8.5l.94-2.06 2.06-.94-2.06-.94L8.5 2.5l-.94 2.06-2.06.94zm10 10l.94 2.06.94-2.06 2.06-.94-2.06-.94-.94-2.06-.94 2.06-2.06.94z\"/><path d=\"M17.41 7.96l-1.37-1.37c-.4-.4-.92-.59-1.43-.59-.52 0-1.04.2-1.43.59L10.3 9.45l-7.72 7.72c-.78.78-.78 2.05 0 2.83L4 21.41c.39.39.9.59 1.41.59.51 0 1.02-.2 1.41-.59l7.78-7.78 2.81-2.81c.8-.78.8-2.07 0-2.86zM5.41 20L4 18.59l7.72-7.72 1.47 1.35L5.41 20z\"/>\n",
              "  </svg>\n",
              "      </button>\n",
              "      \n",
              "  <style>\n",
              "    .colab-df-container {\n",
              "      display:flex;\n",
              "      flex-wrap:wrap;\n",
              "      gap: 12px;\n",
              "    }\n",
              "\n",
              "    .colab-df-convert {\n",
              "      background-color: #E8F0FE;\n",
              "      border: none;\n",
              "      border-radius: 50%;\n",
              "      cursor: pointer;\n",
              "      display: none;\n",
              "      fill: #1967D2;\n",
              "      height: 32px;\n",
              "      padding: 0 0 0 0;\n",
              "      width: 32px;\n",
              "    }\n",
              "\n",
              "    .colab-df-convert:hover {\n",
              "      background-color: #E2EBFA;\n",
              "      box-shadow: 0px 1px 2px rgba(60, 64, 67, 0.3), 0px 1px 3px 1px rgba(60, 64, 67, 0.15);\n",
              "      fill: #174EA6;\n",
              "    }\n",
              "\n",
              "    [theme=dark] .colab-df-convert {\n",
              "      background-color: #3B4455;\n",
              "      fill: #D2E3FC;\n",
              "    }\n",
              "\n",
              "    [theme=dark] .colab-df-convert:hover {\n",
              "      background-color: #434B5C;\n",
              "      box-shadow: 0px 1px 3px 1px rgba(0, 0, 0, 0.15);\n",
              "      filter: drop-shadow(0px 1px 2px rgba(0, 0, 0, 0.3));\n",
              "      fill: #FFFFFF;\n",
              "    }\n",
              "  </style>\n",
              "\n",
              "      <script>\n",
              "        const buttonEl =\n",
              "          document.querySelector('#df-00586864-f6c8-46a5-beb0-4022e170ea2b button.colab-df-convert');\n",
              "        buttonEl.style.display =\n",
              "          google.colab.kernel.accessAllowed ? 'block' : 'none';\n",
              "\n",
              "        async function convertToInteractive(key) {\n",
              "          const element = document.querySelector('#df-00586864-f6c8-46a5-beb0-4022e170ea2b');\n",
              "          const dataTable =\n",
              "            await google.colab.kernel.invokeFunction('convertToInteractive',\n",
              "                                                     [key], {});\n",
              "          if (!dataTable) return;\n",
              "\n",
              "          const docLinkHtml = 'Like what you see? Visit the ' +\n",
              "            '<a target=\"_blank\" href=https://colab.research.google.com/notebooks/data_table.ipynb>data table notebook</a>'\n",
              "            + ' to learn more about interactive tables.';\n",
              "          element.innerHTML = '';\n",
              "          dataTable['output_type'] = 'display_data';\n",
              "          await google.colab.output.renderOutput(dataTable, element);\n",
              "          const docLink = document.createElement('div');\n",
              "          docLink.innerHTML = docLinkHtml;\n",
              "          element.appendChild(docLink);\n",
              "        }\n",
              "      </script>\n",
              "    </div>\n",
              "  </div>\n",
              "  "
            ]
          },
          "metadata": {},
          "execution_count": 21
        }
      ]
    },
    {
      "cell_type": "code",
      "source": [
        "# What does the matrix df.corr() represent? Provide your interpretation of the numbers you see.\n",
        "sns.set(rc = {'figure.figsize':(13,11)})\n",
        "sns.heatmap(df.corr(),annot=True)"
      ],
      "metadata": {
        "id": "X3CEZZygERoZ",
        "colab": {
          "base_uri": "https://localhost:8080/",
          "height": 726
        },
        "outputId": "2bd07bc7-1c77-4073-d390-6ba024d0c079"
      },
      "execution_count": 22,
      "outputs": [
        {
          "output_type": "execute_result",
          "data": {
            "text/plain": [
              "<AxesSubplot:>"
            ]
          },
          "metadata": {},
          "execution_count": 22
        },
        {
          "output_type": "display_data",
          "data": {
            "text/plain": [
              "<Figure size 936x792 with 2 Axes>"
            ],
            "image/png": "[encoded data removed]"
          },
          "metadata": {}
        }
      ]
    },
    {
      "cell_type": "markdown",
      "source": [
        "This is the dataset's correlation matrix. For every pair of features, the correlation coefficient is calculated. We are mostly interested in the column that contains the Survival feature AND another variable. \n",
        "\n",
        "We notice the main diagonal is just ones because corr(X, X) = 1. The matrix is also symmetrical because corr(X, Y) = corr(Y, X).\n",
        "\n",
        "We observe two important correlations: \n",
        "\n",
        "1. Survival and sex are strongly negatively correlated. The reasons behind this are explained above.\n",
        "\n",
        "2. Survival and class are also strongly negatively correlated. The higher the class (the lower the number), the greater the survival rate. \n",
        "\n",
        "Some other interesting correlations occur:\n",
        "\n",
        "1. If you traveled with a spouse or sibling, it was also likely you traveled with children or parents. \n",
        "\n",
        "2. Fare and Pclass is correlated to which port you departed from. This relationship is discussed above.\n",
        "\n",
        "3. As mentioned above, age and class are considerably correlated. This fact will be useful when inferring the missing ages of passenger. "
      ],
      "metadata": {
        "id": "CECAG9meBEtI"
      }
    },
    {
      "cell_type": "markdown",
      "metadata": {
        "id": "2uY85k_t6-8U"
      },
      "source": [
        "# Data cleansing\n",
        "Check the number of missing values in \"Age\". You can either\n",
        "\n",
        "\n",
        "*   Do nothing (the rows with missing \"Age\" will be ignored in the training stage)\n",
        "*   Or fill the missing values with some value of your choice.\n",
        "\n",
        "\n",
        "Do something smart.\n",
        "\n"
      ]
    },
    {
      "cell_type": "code",
      "source": [
        "# Do something smart to handle the problem of missing values in the \"Age\" column\n",
        "\n",
        "# Pclass and age are strongly correlated (see correlation matrix). \n",
        "# Therefore, the passenger class gives you information about the possible age of the passenger\n",
        "# So, for every passenger with missing age, we will infer their age to be the median\n",
        "# age of their class.\n",
        "df['FilledAge'] = df.groupby(['Pclass'])['Age'].apply(lambda x: x.fillna(x.median()))\n",
        "\n",
        "a, b, c = df.groupby(['Pclass'])['Age'].apply(lambda x: x.median())\n",
        "median_ages = [a, b, c]"
      ],
      "metadata": {
        "id": "JfnlnXzlIq4u"
      },
      "execution_count": 23,
      "outputs": []
    },
    {
      "cell_type": "code",
      "execution_count": 24,
      "metadata": {
        "id": "tm2QgXVa6-8U"
      },
      "outputs": [],
      "source": [
        "# We will train a logistic regression. Write below the columns which you would like to keep as features for logistic regression.\n",
        "# n.b.: We will NOT keep the columns Ticket and Cabin. Why?\n",
        "\n",
        "mycolumns = [\"FilledAge\", \"SibSp\", \"Parch\", \"Fare\", \"Sex_num\", \"C\", \"Q\", \"S\"]\n"
      ]
    },
    {
      "cell_type": "markdown",
      "source": [
        "Ticket and Cabin are categorical features that are not easily encoded as numerical values. Hence, they are of no use for a logistic classifier. However, we will try to use Cabin information later on to improve our predictions \n",
        "\n",
        "\n",
        "Note from the future: Including cabin information did not improve the accuracy of our model. In fact, it decreased the accuracy."
      ],
      "metadata": {
        "id": "WD0FE1vFKBf4"
      }
    },
    {
      "cell_type": "markdown",
      "source": [
        "#Logistic regression\n"
      ],
      "metadata": {
        "id": "hMDarQFuTEYR"
      }
    },
    {
      "cell_type": "code",
      "source": [
        "# Train a logistic regression classifier using sklearn, based on the above dataframe and the chosen columns. \n",
        "# Explain the meaning of the parameter in the logistic regression\n",
        "from sklearn.linear_model import LogisticRegression\n",
        "lr = LogisticRegression(penalty='l2',C=1.0,max_iter=1000)"
      ],
      "metadata": {
        "id": "MGxoSeWOTCFp"
      },
      "execution_count": 25,
      "outputs": []
    },
    {
      "cell_type": "markdown",
      "source": [
        "Penalty 'l2': l2 penalty is the squared norm regularitzation term. It penalizes the model when it becomes too complex (a sign of overfitting). We do not want our weights to be too large because the model becomes unstable. l2 adds the squared norm of our weights to the model's loss function so that the complexity is minimized during our training phase.\n",
        "\n",
        "C: Inverse of regularization strength. Simply put, it is a parameter that controls how much we penalize a complex model. Mathematically, our regularization term is exactly $\\frac{1}{c}||w||^2$.\n",
        "\n",
        "\n",
        "Max_iter: Maximum number of iterations taken for the solvers to converge. Prevents infinite loops."
      ],
      "metadata": {
        "id": "9yZ0TKFfpzij"
      }
    },
    {
      "cell_type": "code",
      "source": [
        "# Fit the model\n",
        "\n",
        "lr.fit(df[mycolumns], df[\"Survived\"])"
      ],
      "metadata": {
        "id": "G84-coE2Tzy1",
        "colab": {
          "base_uri": "https://localhost:8080/"
        },
        "outputId": "82869be9-ec5a-48b6-ac1b-7f296e99135b"
      },
      "execution_count": 26,
      "outputs": [
        {
          "output_type": "execute_result",
          "data": {
            "text/plain": [
              "LogisticRegression(max_iter=1000)"
            ]
          },
          "metadata": {},
          "execution_count": 26
        }
      ]
    },
    {
      "cell_type": "code",
      "source": [
        "# Display the coefficients of the logistic regression. Discuss the possible positive/negative impact on survival of certain parameters\n",
        "\n",
        "lr.coef_"
      ],
      "metadata": {
        "id": "wDcs4mnJUJ_V",
        "colab": {
          "base_uri": "https://localhost:8080/"
        },
        "outputId": "f6abaddf-489f-44b6-de51-618b3c78433c"
      },
      "execution_count": 27,
      "outputs": [
        {
          "output_type": "execute_result",
          "data": {
            "text/plain": [
              "array([[-0.01785577, -0.38149811, -0.20727981,  0.01484503, -2.54515206,\n",
              "         0.28540275, -0.3532617 , -0.19612992]])"
            ]
          },
          "metadata": {},
          "execution_count": 27
        }
      ]
    },
    {
      "cell_type": "markdown",
      "source": [
        "Unsurprisingly, sex is the predominat weight in this model (-2.5415). We saw earlier that the female surviving rate was much higher than that of men.\n",
        "\n",
        "We also observe our model captured the positive correlation between the ticket fare and the survival. This again reveals that higherclass passengers were more likely to survive.\n",
        "\n",
        "We note the negative impact of having family aboard (either `SibSp` or `Parch`). It is difficult to specify the reasons behind this. \n",
        "\n",
        "\n"
      ],
      "metadata": {
        "id": "jbqm6Z4axgQd"
      }
    },
    {
      "cell_type": "markdown",
      "metadata": {
        "id": "UimdQsrb6-8W"
      },
      "source": [
        "# Performance evaluation\n"
      ]
    },
    {
      "cell_type": "code",
      "execution_count": 28,
      "metadata": {
        "id": "V-iZ4QGf6-8W",
        "colab": {
          "base_uri": "https://localhost:8080/"
        },
        "outputId": "bb8443ff-4319-4a83-a968-acecac482add"
      },
      "outputs": [
        {
          "output_type": "stream",
          "name": "stdout",
          "text": [
            "<class 'pandas.core.frame.DataFrame'>\n",
            "Int64Index: 418 entries, 0 to 417\n",
            "Data columns (total 12 columns):\n",
            " #   Column       Non-Null Count  Dtype  \n",
            "---  ------       --------------  -----  \n",
            " 0   PassengerId  418 non-null    int64  \n",
            " 1   Pclass       418 non-null    int64  \n",
            " 2   Name         418 non-null    object \n",
            " 3   Sex          418 non-null    object \n",
            " 4   Age          332 non-null    float64\n",
            " 5   SibSp        418 non-null    int64  \n",
            " 6   Parch        418 non-null    int64  \n",
            " 7   Ticket       418 non-null    object \n",
            " 8   Fare         417 non-null    float64\n",
            " 9   Cabin        91 non-null     object \n",
            " 10  Embarked     418 non-null    object \n",
            " 11  Survived     418 non-null    int64  \n",
            "dtypes: float64(2), int64(5), object(5)\n",
            "memory usage: 42.5+ KB\n"
          ]
        }
      ],
      "source": [
        "# Load the test data\n",
        "Xtest = pd.read_csv(\"/content/data/testtitanic.csv\")\n",
        "ytest = pd.read_csv(\"/content/data/gender_submission.csv\")\n",
        "dftest = pd.merge(Xtest,ytest)\n",
        "\n",
        "dftest.info()"
      ]
    },
    {
      "cell_type": "markdown",
      "source": [
        "There are multiple ages missing, and a single datapoint lacks the fare price."
      ],
      "metadata": {
        "id": "GJEmFozxNBKk"
      }
    },
    {
      "cell_type": "code",
      "source": [
        "# Process the test features in order to obtain the same format as for the train set\n",
        "\n",
        "#change categorical sex to boolean sex\n",
        "dftest[\"Sex_num\"] = (dftest[\"Sex\"]==\"male\").astype(\"int\") #That's ok because there is no missing data in the \"Sex\" column\n",
        "\n",
        "#change embarked category to three boolean categories\n",
        "ports = pd.get_dummies(dftest['Embarked'])\n",
        "dftest[ports.columns] = ports\n",
        "dftest.drop(columns=[\"Sex\",\"Embarked\"], inplace = True)\n",
        "\n",
        "#fill age with the average of the class (from our training data)\n",
        "dftest['FilledAge'] = dftest.groupby(['Pclass'])['Age'].apply(lambda x: x.fillna(median_ages[x.name-1]))\n",
        "\n",
        "#to not drop the missing datapoint, we will just infere the fare as the median of its class\n",
        "dftest['Fare'] = dftest.groupby(['Pclass'])['Fare'].apply(lambda x: x.fillna(x.median()))"
      ],
      "metadata": {
        "id": "2r85LzRHVRRY"
      },
      "execution_count": 29,
      "outputs": []
    },
    {
      "cell_type": "code",
      "source": [
        " # Define a dataframe with only the columns you want to keep (and the label)\n",
        "dftest_copy = dftest #we create a copy of the dataframe to use in the bonus question\n",
        "dftest=dftest[mycolumns+[\"Survived\"]]\n"
      ],
      "metadata": {
        "id": "b7d9vEy3aupb"
      },
      "execution_count": 30,
      "outputs": []
    },
    {
      "cell_type": "code",
      "source": [
        "# Check if there are some missing values. If needed, row containing missing values can be dropped using the dropna() method (inplace)\n",
        "dftest.info()\n",
        "\n",
        "#we have fixed our data not to drop a single datapoint"
      ],
      "metadata": {
        "id": "qA4j2tfqW64X",
        "colab": {
          "base_uri": "https://localhost:8080/"
        },
        "outputId": "900898fa-008d-4e25-bd97-fd37740ff4ca"
      },
      "execution_count": 31,
      "outputs": [
        {
          "output_type": "stream",
          "name": "stdout",
          "text": [
            "<class 'pandas.core.frame.DataFrame'>\n",
            "Int64Index: 418 entries, 0 to 417\n",
            "Data columns (total 9 columns):\n",
            " #   Column     Non-Null Count  Dtype  \n",
            "---  ------     --------------  -----  \n",
            " 0   FilledAge  418 non-null    float64\n",
            " 1   SibSp      418 non-null    int64  \n",
            " 2   Parch      418 non-null    int64  \n",
            " 3   Fare       418 non-null    float64\n",
            " 4   Sex_num    418 non-null    int64  \n",
            " 5   C          418 non-null    uint8  \n",
            " 6   Q          418 non-null    uint8  \n",
            " 7   S          418 non-null    uint8  \n",
            " 8   Survived   418 non-null    int64  \n",
            "dtypes: float64(2), int64(4), uint8(3)\n",
            "memory usage: 24.1 KB\n"
          ]
        }
      ]
    },
    {
      "cell_type": "code",
      "source": [
        "# Compute the hard predictions on the test set (using only the columns to keep)\n",
        "ypredict = lr.predict(dftest.iloc[:, :-1])"
      ],
      "metadata": {
        "id": "i0kPfKM5WaWh"
      },
      "execution_count": 32,
      "outputs": []
    },
    {
      "cell_type": "code",
      "source": [
        "# Compute the accuracy score\n",
        "from sklearn.metrics import accuracy_score\n",
        "# ... your code here ...\n",
        "\n",
        "accuracy_score(ypredict, dftest.Survived)"
      ],
      "metadata": {
        "id": "c8_oRIPFXxrB",
        "colab": {
          "base_uri": "https://localhost:8080/"
        },
        "outputId": "61cf6ebd-7f17-4976-e1d7-30a635258dba"
      },
      "execution_count": 33,
      "outputs": [
        {
          "output_type": "execute_result",
          "data": {
            "text/plain": [
              "0.9665071770334929"
            ]
          },
          "metadata": {},
          "execution_count": 33
        }
      ]
    },
    {
      "cell_type": "code",
      "source": [
        "# Compute the soft predictions unsing predict_proba\n",
        "soft_predict = lr.predict_proba(dftest[mycolumns])[:,1]"
      ],
      "metadata": {
        "id": "3xhmTCSocRwU"
      },
      "execution_count": 34,
      "outputs": []
    },
    {
      "cell_type": "code",
      "source": [
        "from sklearn.metrics import RocCurveDisplay\n",
        "RocCurveDisplay.from_predictions(dftest.Survived, soft_predict) "
      ],
      "metadata": {
        "id": "wQ2IRIy5dpPR",
        "colab": {
          "base_uri": "https://localhost:8080/",
          "height": 682
        },
        "outputId": "36eaf87b-6348-4848-e5fa-92b7149375f2"
      },
      "execution_count": 35,
      "outputs": [
        {
          "output_type": "execute_result",
          "data": {
            "text/plain": [
              "<sklearn.metrics._plot.roc_curve.RocCurveDisplay at 0x7f710682d0d0>"
            ]
          },
          "metadata": {},
          "execution_count": 35
        },
        {
          "output_type": "display_data",
          "data": {
            "text/plain": [
              "<Figure size 936x792 with 1 Axes>"
            ],
            "image/png": "[encoded data removed]"
          },
          "metadata": {}
        }
      ]
    },
    {
      "cell_type": "markdown",
      "source": [
        "# Bonus question: do whatever you find useful\n",
        "\n",
        "Here are some examples:\n",
        "\n",
        "*   Try to include useful elements of the Cabin number\n",
        "*   Try different regularization parameters\n",
        "* Try L1 regularization instead of ridge\n",
        "* Try linear regression\n",
        "\n",
        "\n",
        "\n"
      ],
      "metadata": {
        "id": "aJOoT9ldfKzk"
      }
    },
    {
      "cell_type": "code",
      "source": [
        "#The main problem with the Cabin feature is that only about 25% of the data\n",
        "# contains a meaningful value. It is a reasonable assumption that the cabin influenced\n",
        "#the survival of the passengers, so we will try to incorporate it to our model\n",
        "\n",
        "df[\"Cabin\"]"
      ],
      "metadata": {
        "id": "5WTDYY7hSUfa",
        "colab": {
          "base_uri": "https://localhost:8080/"
        },
        "outputId": "d806d661-33d3-4e40-bf37-c703ae0bd7ef"
      },
      "execution_count": 36,
      "outputs": [
        {
          "output_type": "execute_result",
          "data": {
            "text/plain": [
              "0       NaN\n",
              "1       C85\n",
              "2       NaN\n",
              "3      C123\n",
              "4       NaN\n",
              "       ... \n",
              "886     NaN\n",
              "887     B42\n",
              "888     NaN\n",
              "889    C148\n",
              "890     NaN\n",
              "Name: Cabin, Length: 891, dtype: object"
            ]
          },
          "metadata": {},
          "execution_count": 36
        }
      ]
    },
    {
      "cell_type": "markdown",
      "source": [
        "The cabin is composed of two aspects: A letter and a number. Most passengers' cabin is unknown. For others, a range is provided. We will take into consideration the section (the letter of the ticket) for our predicitons,\n",
        "but not the numbers."
      ],
      "metadata": {
        "id": "vj5Wy2jhfXBG"
      }
    },
    {
      "cell_type": "code",
      "source": [
        "#extract the first character of cabin and put it in a new column called section\n",
        "df[\"Section\"] = df['Cabin'].str[0] \n",
        "df[\"Section\"]"
      ],
      "metadata": {
        "id": "A5DUsncISr3F",
        "colab": {
          "base_uri": "https://localhost:8080/"
        },
        "outputId": "b64c282b-d0ce-4a3e-875e-67dfe4ee8cf8"
      },
      "execution_count": 37,
      "outputs": [
        {
          "output_type": "execute_result",
          "data": {
            "text/plain": [
              "0      NaN\n",
              "1        C\n",
              "2      NaN\n",
              "3        C\n",
              "4      NaN\n",
              "      ... \n",
              "886    NaN\n",
              "887      B\n",
              "888    NaN\n",
              "889      C\n",
              "890    NaN\n",
              "Name: Section, Length: 891, dtype: object"
            ]
          },
          "metadata": {},
          "execution_count": 37
        }
      ]
    },
    {
      "cell_type": "markdown",
      "source": [
        "#Exploring the correlation of the Cabin Section and Survival"
      ],
      "metadata": {
        "id": "jbsvFkhd2bxD"
      }
    },
    {
      "cell_type": "code",
      "source": [
        "#The are 7 letters for different cabin sections. We will first try to combine \n",
        "#all the classes into a single value that goes from 0 to 6\n",
        "\n",
        "indexes = ['A', 'B', 'C', 'D', 'E', 'F', 'G']\n",
        "df[\"SectionNum\"] = df[\"Section\"].apply(lambda x: indexes.index(x) if x in indexes else float('nan'))\n",
        "\n",
        "df[\"SectionNum\"]"
      ],
      "metadata": {
        "id": "W5FbjRCPfwxJ",
        "colab": {
          "base_uri": "https://localhost:8080/"
        },
        "outputId": "238df9f4-3158-4f96-8a02-fbee5dd587dc"
      },
      "execution_count": 38,
      "outputs": [
        {
          "output_type": "execute_result",
          "data": {
            "text/plain": [
              "0      NaN\n",
              "1      2.0\n",
              "2      NaN\n",
              "3      2.0\n",
              "4      NaN\n",
              "      ... \n",
              "886    NaN\n",
              "887    1.0\n",
              "888    NaN\n",
              "889    2.0\n",
              "890    NaN\n",
              "Name: SectionNum, Length: 891, dtype: float64"
            ]
          },
          "metadata": {},
          "execution_count": 38
        }
      ]
    },
    {
      "cell_type": "code",
      "source": [
        "df[[\"SectionNum\", \"Survived\"]].corr()"
      ],
      "metadata": {
        "id": "aY__a7DUFwOO",
        "colab": {
          "base_uri": "https://localhost:8080/",
          "height": 111
        },
        "outputId": "86d95d00-9d7f-4887-d5a9-b698eb561c28"
      },
      "execution_count": 39,
      "outputs": [
        {
          "output_type": "execute_result",
          "data": {
            "text/plain": [
              "            SectionNum  Survived\n",
              "SectionNum    1.000000  0.041841\n",
              "Survived      0.041841  1.000000"
            ],
            "text/html": [
              "\n",
              "  <div id=\"df-d3c423c4-0f57-4769-857b-c43af51ba615\">\n",
              "    <div class=\"colab-df-container\">\n",
              "      <div>\n",
              "<style scoped>\n",
              "    .dataframe tbody tr th:only-of-type {\n",
              "        vertical-align: middle;\n",
              "    }\n",
              "\n",
              "    .dataframe tbody tr th {\n",
              "        vertical-align: top;\n",
              "    }\n",
              "\n",
              "    .dataframe thead th {\n",
              "        text-align: right;\n",
              "    }\n",
              "</style>\n",
              "<table border=\"1\" class=\"dataframe\">\n",
              "  <thead>\n",
              "    <tr style=\"text-align: right;\">\n",
              "      <th></th>\n",
              "      <th>SectionNum</th>\n",
              "      <th>Survived</th>\n",
              "    </tr>\n",
              "  </thead>\n",
              "  <tbody>\n",
              "    <tr>\n",
              "      <th>SectionNum</th>\n",
              "      <td>1.000000</td>\n",
              "      <td>0.041841</td>\n",
              "    </tr>\n",
              "    <tr>\n",
              "      <th>Survived</th>\n",
              "      <td>0.041841</td>\n",
              "      <td>1.000000</td>\n",
              "    </tr>\n",
              "  </tbody>\n",
              "</table>\n",
              "</div>\n",
              "      <button class=\"colab-df-convert\" onclick=\"convertToInteractive('df-d3c423c4-0f57-4769-857b-c43af51ba615')\"\n",
              "              title=\"Convert this dataframe to an interactive table.\"\n",
              "              style=\"display:none;\">\n",
              "        \n",
              "  <svg xmlns=\"http://www.w3.org/2000/svg\" height=\"24px\"viewBox=\"0 0 24 24\"\n",
              "       width=\"24px\">\n",
              "    <path d=\"M0 0h24v24H0V0z\" fill=\"none\"/>\n",
              "    <path d=\"M18.56 5.44l.94 2.06.94-2.06 2.06-.94-2.06-.94-.94-2.06-.94 2.06-2.06.94zm-11 1L8.5 8.5l.94-2.06 2.06-.94-2.06-.94L8.5 2.5l-.94 2.06-2.06.94zm10 10l.94 2.06.94-2.06 2.06-.94-2.06-.94-.94-2.06-.94 2.06-2.06.94z\"/><path d=\"M17.41 7.96l-1.37-1.37c-.4-.4-.92-.59-1.43-.59-.52 0-1.04.2-1.43.59L10.3 9.45l-7.72 7.72c-.78.78-.78 2.05 0 2.83L4 21.41c.39.39.9.59 1.41.59.51 0 1.02-.2 1.41-.59l7.78-7.78 2.81-2.81c.8-.78.8-2.07 0-2.86zM5.41 20L4 18.59l7.72-7.72 1.47 1.35L5.41 20z\"/>\n",
              "  </svg>\n",
              "      </button>\n",
              "      \n",
              "  <style>\n",
              "    .colab-df-container {\n",
              "      display:flex;\n",
              "      flex-wrap:wrap;\n",
              "      gap: 12px;\n",
              "    }\n",
              "\n",
              "    .colab-df-convert {\n",
              "      background-color: #E8F0FE;\n",
              "      border: none;\n",
              "      border-radius: 50%;\n",
              "      cursor: pointer;\n",
              "      display: none;\n",
              "      fill: #1967D2;\n",
              "      height: 32px;\n",
              "      padding: 0 0 0 0;\n",
              "      width: 32px;\n",
              "    }\n",
              "\n",
              "    .colab-df-convert:hover {\n",
              "      background-color: #E2EBFA;\n",
              "      box-shadow: 0px 1px 2px rgba(60, 64, 67, 0.3), 0px 1px 3px 1px rgba(60, 64, 67, 0.15);\n",
              "      fill: #174EA6;\n",
              "    }\n",
              "\n",
              "    [theme=dark] .colab-df-convert {\n",
              "      background-color: #3B4455;\n",
              "      fill: #D2E3FC;\n",
              "    }\n",
              "\n",
              "    [theme=dark] .colab-df-convert:hover {\n",
              "      background-color: #434B5C;\n",
              "      box-shadow: 0px 1px 3px 1px rgba(0, 0, 0, 0.15);\n",
              "      filter: drop-shadow(0px 1px 2px rgba(0, 0, 0, 0.3));\n",
              "      fill: #FFFFFF;\n",
              "    }\n",
              "  </style>\n",
              "\n",
              "      <script>\n",
              "        const buttonEl =\n",
              "          document.querySelector('#df-d3c423c4-0f57-4769-857b-c43af51ba615 button.colab-df-convert');\n",
              "        buttonEl.style.display =\n",
              "          google.colab.kernel.accessAllowed ? 'block' : 'none';\n",
              "\n",
              "        async function convertToInteractive(key) {\n",
              "          const element = document.querySelector('#df-d3c423c4-0f57-4769-857b-c43af51ba615');\n",
              "          const dataTable =\n",
              "            await google.colab.kernel.invokeFunction('convertToInteractive',\n",
              "                                                     [key], {});\n",
              "          if (!dataTable) return;\n",
              "\n",
              "          const docLinkHtml = 'Like what you see? Visit the ' +\n",
              "            '<a target=\"_blank\" href=https://colab.research.google.com/notebooks/data_table.ipynb>data table notebook</a>'\n",
              "            + ' to learn more about interactive tables.';\n",
              "          element.innerHTML = '';\n",
              "          dataTable['output_type'] = 'display_data';\n",
              "          await google.colab.output.renderOutput(dataTable, element);\n",
              "          const docLink = document.createElement('div');\n",
              "          docLink.innerHTML = docLinkHtml;\n",
              "          element.appendChild(docLink);\n",
              "        }\n",
              "      </script>\n",
              "    </div>\n",
              "  </div>\n",
              "  "
            ]
          },
          "metadata": {},
          "execution_count": 39
        }
      ]
    },
    {
      "cell_type": "markdown",
      "source": [
        "The values seem not to be very correlated but this could be due to our arbitrary indexing"
      ],
      "metadata": {
        "id": "3IkmOG0DgG8B"
      }
    },
    {
      "cell_type": "code",
      "source": [
        "#Now we convert them to dummies and evaluate their correlation\n",
        "\n",
        "sects_dummies = pd.get_dummies(df['Section'])\n",
        "sects_dummies[\"Survived\"] = df[\"Survived\"]"
      ],
      "metadata": {
        "id": "C9_eTy6BVVEj"
      },
      "execution_count": 40,
      "outputs": []
    },
    {
      "cell_type": "code",
      "source": [
        "sns.heatmap(sects_dummies.corr(), annot=True)"
      ],
      "metadata": {
        "id": "vLZeGbgFeBWR",
        "colab": {
          "base_uri": "https://localhost:8080/",
          "height": 669
        },
        "outputId": "98228e53-1f19-4346-e26d-bbe31ef0a3f2"
      },
      "execution_count": 41,
      "outputs": [
        {
          "output_type": "execute_result",
          "data": {
            "text/plain": [
              "<AxesSubplot:>"
            ]
          },
          "metadata": {},
          "execution_count": 41
        },
        {
          "output_type": "display_data",
          "data": {
            "text/plain": [
              "<Figure size 936x792 with 2 Axes>"
            ],
            "image/png": "[encoded data removed]"
          },
          "metadata": {}
        }
      ]
    },
    {
      "cell_type": "markdown",
      "source": [
        "We see that certain cabins are more strongly correlated to survival than others. So we will continue our idea of incorporating the cabin into our logistic classifier. \n",
        "\n",
        "Here's the gameplan:\n",
        "\n",
        "1. We will split the dataset into training data and data to predict. Our training data will be all the data for which we know the cabin section. Our data to predict will be all the missing values.\n",
        "\n",
        "2. We will employ a multinomial classifier that predicts the cabin section for all the missing datapoints. We will evaluate the accuracy of this model with the test data with known cabin.\n",
        "\n",
        "3. We will translate this generated data to one hot encoding. \n",
        "\n",
        "4. We will train once again our original logistic model with the added columns."
      ],
      "metadata": {
        "id": "8AKuFTfugxsL"
      }
    },
    {
      "cell_type": "markdown",
      "source": [
        "#Preparing the data and predicting the missing cabins"
      ],
      "metadata": {
        "id": "DDSIOk7q34Rw"
      }
    },
    {
      "cell_type": "code",
      "source": [
        "#first we will split our data into training data and data to predict\n",
        "\n",
        "# create a boolean mask that identifies NaN values\n",
        "nan_mask = df['SectionNum'].isna()\n",
        "\n",
        "# use the mask to split the DataFrame into training data and to predict data\n",
        "df_known= df[~df['SectionNum'].isna()]\n",
        "df_topredict = df[df['SectionNum'].isna()]"
      ],
      "metadata": {
        "id": "PAs201Rlj0t9"
      },
      "execution_count": 42,
      "outputs": []
    },
    {
      "cell_type": "code",
      "source": [
        "#now we generate our logistic regression to predict the cabin of the missing datapoints\n",
        "\n",
        "mycolumns = [\"FilledAge\", \"SibSp\", \"Parch\", \"Fare\", \"Sex_num\", \"C\", \"Q\", \"S\"]\n",
        "\n",
        "lr_cabin = LogisticRegression(penalty='l2',C=1.0,max_iter=10000, multi_class='multinomial')\n",
        "lr_cabin.fit(df_known[mycolumns], df_known['SectionNum']) \n",
        "\n",
        "#the accuracy of this cabin prediction model will be evaluated later"
      ],
      "metadata": {
        "id": "Mu71_0rhkfoR",
        "colab": {
          "base_uri": "https://localhost:8080/"
        },
        "outputId": "0dfc11bf-63c7-499d-e02e-efe52837bd8b"
      },
      "execution_count": 43,
      "outputs": [
        {
          "output_type": "execute_result",
          "data": {
            "text/plain": [
              "LogisticRegression(max_iter=10000, multi_class='multinomial')"
            ]
          },
          "metadata": {},
          "execution_count": 43
        }
      ]
    },
    {
      "cell_type": "code",
      "source": [
        "#we predict the missing cabins\n",
        "predict_cabins = lr_cabin.predict(df_topredict[mycolumns])"
      ],
      "metadata": {
        "id": "x_YBvu0Wndeu"
      },
      "execution_count": 44,
      "outputs": []
    },
    {
      "cell_type": "code",
      "source": [
        "#fill in the missing values in the original dataframe with the generated values\n",
        "df.loc[df.SectionNum.isnull(), 'SectionNum'] = predict_cabins"
      ],
      "metadata": {
        "id": "cgYAvijZosC-"
      },
      "execution_count": 45,
      "outputs": []
    },
    {
      "cell_type": "code",
      "source": [
        "#We check if the predictions have been filled\n",
        "print(list(df[\"Section\"])[:10])\n",
        "print(list(df[\"SectionNum\"])[:10])"
      ],
      "metadata": {
        "id": "w8WUx9jkq0_G",
        "colab": {
          "base_uri": "https://localhost:8080/"
        },
        "outputId": "6fec30c9-1bd9-4294-a702-e55da44f0380"
      },
      "execution_count": 46,
      "outputs": [
        {
          "output_type": "stream",
          "name": "stdout",
          "text": [
            "[nan, 'C', nan, 'C', nan, nan, 'E', nan, nan, nan]\n",
            "[5.0, 2.0, 5.0, 2.0, 4.0, 5.0, 4.0, 5.0, 6.0, 5.0]\n"
          ]
        }
      ]
    },
    {
      "cell_type": "code",
      "source": [
        "#we convert the categories into dummy booleans\n",
        "\n",
        "sects_dummies = pd.get_dummies(df['SectionNum'])\n",
        "df[sects_dummies.columns] = sects_dummies\n",
        "df.rename(columns = {0.0:'A', 1.0:'B', 2.0:'C', 3.0:'D', 4.0:'E', 5.0:'F', 6.0:'G'}, inplace = True)\n",
        "df.info()"
      ],
      "metadata": {
        "id": "wdpL5CKmExjY",
        "colab": {
          "base_uri": "https://localhost:8080/"
        },
        "outputId": "446ea313-59e0-4219-f415-325fffa2ed9a"
      },
      "execution_count": 47,
      "outputs": [
        {
          "output_type": "stream",
          "name": "stdout",
          "text": [
            "<class 'pandas.core.frame.DataFrame'>\n",
            "RangeIndex: 891 entries, 0 to 890\n",
            "Data columns (total 24 columns):\n",
            " #   Column       Non-Null Count  Dtype  \n",
            "---  ------       --------------  -----  \n",
            " 0   PassengerId  891 non-null    int64  \n",
            " 1   Survived     891 non-null    int64  \n",
            " 2   Pclass       891 non-null    int64  \n",
            " 3   Name         891 non-null    object \n",
            " 4   Age          714 non-null    float64\n",
            " 5   SibSp        891 non-null    int64  \n",
            " 6   Parch        891 non-null    int64  \n",
            " 7   Ticket       891 non-null    object \n",
            " 8   Fare         891 non-null    float64\n",
            " 9   Cabin        204 non-null    object \n",
            " 10  Sex_num      891 non-null    int64  \n",
            " 11  C            891 non-null    uint8  \n",
            " 12  Q            891 non-null    uint8  \n",
            " 13  S            891 non-null    uint8  \n",
            " 14  FilledAge    891 non-null    float64\n",
            " 15  Section      204 non-null    object \n",
            " 16  SectionNum   891 non-null    float64\n",
            " 17  A            891 non-null    uint8  \n",
            " 18  B            891 non-null    uint8  \n",
            " 19  C            891 non-null    uint8  \n",
            " 20  D            891 non-null    uint8  \n",
            " 21  E            891 non-null    uint8  \n",
            " 22  F            891 non-null    uint8  \n",
            " 23  G            891 non-null    uint8  \n",
            "dtypes: float64(4), int64(6), object(4), uint8(10)\n",
            "memory usage: 106.3+ KB\n"
          ]
        }
      ]
    },
    {
      "cell_type": "code",
      "source": [
        "#apply our logistic regression to the new data set with added cabin section columns\n",
        "\n",
        "final_lr = LogisticRegression(penalty='l2',C=1.0,max_iter=1000)\n",
        "new_columns = mycolumns + ['A', 'B', 'C', 'D', 'E', 'F', 'G']\n",
        "final_lr.fit(df[new_columns], df[\"Survived\"])"
      ],
      "metadata": {
        "id": "u8H7bAaBJmUu",
        "colab": {
          "base_uri": "https://localhost:8080/"
        },
        "outputId": "3a6ffcec-eaf3-48af-c21d-047c3042f136"
      },
      "execution_count": 48,
      "outputs": [
        {
          "output_type": "execute_result",
          "data": {
            "text/plain": [
              "LogisticRegression(max_iter=1000)"
            ]
          },
          "metadata": {},
          "execution_count": 48
        }
      ]
    },
    {
      "cell_type": "markdown",
      "source": [
        "#Preparing the test data set"
      ],
      "metadata": {
        "id": "VlhFZ7r_8Q8G"
      }
    },
    {
      "cell_type": "code",
      "source": [
        "#extract the cabin section\n",
        "dftest_copy[\"Section\"] = dftest_copy['Cabin'].str[0] \n",
        "\n",
        "#map it to numbers\n",
        "dftest_copy[\"SectionNum\"] = dftest_copy[\"Section\"].apply(lambda x: indexes.index(x) if x in indexes else float('nan'))\n",
        "\n",
        "# create a boolean mask that identifies NaN values\n",
        "nan_mask = dftest_copy['SectionNum'].isna()\n",
        "\n",
        "# use the mask to split the DataFrame into two separate DataFrames\n",
        "df_known_test = dftest_copy[~dftest_copy['SectionNum'].isna()]"
      ],
      "metadata": {
        "id": "mJoZbGQfKTta"
      },
      "execution_count": 49,
      "outputs": []
    },
    {
      "cell_type": "code",
      "source": [
        "# Now that we have our test data with known cabin section, we can compute the accuracy\n",
        "#of our cabin section predicting model\n",
        "\n",
        "mycolumns = [\"FilledAge\", \"SibSp\", \"Parch\", \"Fare\", \"Sex_num\", \"C\", \"Q\", \"S\"]\n",
        "cabin_pred = lr_cabin.predict(df_known_test[mycolumns])\n",
        "print(f\"accuracy of cabin model = {accuracy_score(cabin_pred, df_known_test.SectionNum)}\")\n"
      ],
      "metadata": {
        "id": "3BZ9Z2S78a3B",
        "colab": {
          "base_uri": "https://localhost:8080/"
        },
        "outputId": "693f61dd-e7ac-45bf-b1e2-5a21ed558d5c"
      },
      "execution_count": 50,
      "outputs": [
        {
          "output_type": "stream",
          "name": "stdout",
          "text": [
            "accuracy of cabin model = 0.4065934065934066\n"
          ]
        }
      ]
    },
    {
      "cell_type": "markdown",
      "source": [
        "Definitely not very good. We will proceed anyways."
      ],
      "metadata": {
        "id": "MkcIJlYf9YzJ"
      }
    },
    {
      "cell_type": "code",
      "source": [
        "#DataFrame with datapoints with missing cabin section\n",
        "df_nan = dftest_copy[dftest_copy['SectionNum'].isna()]\n",
        "\n",
        "#we employ our model to predict the missing cabin sections\n",
        "predict_cabins = lr_cabin.predict(df_nan[mycolumns])\n",
        "\n",
        "#fill the missing values with the predicted ones\n",
        "dftest_copy.loc[dftest_copy.SectionNum.isnull(), 'SectionNum'] = predict_cabins\n",
        "\n",
        "#Split the section wit one hot encoding\n",
        "sects_dummies = pd.get_dummies(dftest_copy['SectionNum'])\n",
        "dftest_copy[sects_dummies.columns] = sects_dummies\n",
        "\n",
        "dftest_copy.rename(columns = {0.0:'A', 1.0:'B', 2.0:'C', 3.0:'D', 4.0:'E', 5.0:'F', 6.0:'G'}, inplace = True)\n",
        "dftest_copy.info()"
      ],
      "metadata": {
        "id": "T9jrBTEW8cWl",
        "colab": {
          "base_uri": "https://localhost:8080/"
        },
        "outputId": "a58e85d7-bdd5-4102-de39-48a636c558de"
      },
      "execution_count": 51,
      "outputs": [
        {
          "output_type": "stream",
          "name": "stdout",
          "text": [
            "<class 'pandas.core.frame.DataFrame'>\n",
            "Int64Index: 418 entries, 0 to 417\n",
            "Data columns (total 24 columns):\n",
            " #   Column       Non-Null Count  Dtype  \n",
            "---  ------       --------------  -----  \n",
            " 0   PassengerId  418 non-null    int64  \n",
            " 1   Pclass       418 non-null    int64  \n",
            " 2   Name         418 non-null    object \n",
            " 3   Age          332 non-null    float64\n",
            " 4   SibSp        418 non-null    int64  \n",
            " 5   Parch        418 non-null    int64  \n",
            " 6   Ticket       418 non-null    object \n",
            " 7   Fare         418 non-null    float64\n",
            " 8   Cabin        91 non-null     object \n",
            " 9   Survived     418 non-null    int64  \n",
            " 10  Sex_num      418 non-null    int64  \n",
            " 11  C            418 non-null    uint8  \n",
            " 12  Q            418 non-null    uint8  \n",
            " 13  S            418 non-null    uint8  \n",
            " 14  FilledAge    418 non-null    float64\n",
            " 15  Section      91 non-null     object \n",
            " 16  SectionNum   418 non-null    float64\n",
            " 17  A            418 non-null    uint8  \n",
            " 18  B            418 non-null    uint8  \n",
            " 19  C            418 non-null    uint8  \n",
            " 20  D            418 non-null    uint8  \n",
            " 21  E            418 non-null    uint8  \n",
            " 22  F            418 non-null    uint8  \n",
            " 23  G            418 non-null    uint8  \n",
            "dtypes: float64(4), int64(6), object(4), uint8(10)\n",
            "memory usage: 53.1+ KB\n"
          ]
        }
      ]
    },
    {
      "cell_type": "code",
      "source": [
        "#We run our final prediction\n",
        "y_pred_with_cabin = final_lr.predict(dftest_copy[new_columns])"
      ],
      "metadata": {
        "id": "ik82rap_Pkqt"
      },
      "execution_count": 52,
      "outputs": []
    },
    {
      "cell_type": "code",
      "source": [
        "#compute the accuracy\n",
        "accuracy_score(y_pred_with_cabin, dftest_copy.Survived)"
      ],
      "metadata": {
        "id": "O7uv3L0KP5iZ",
        "colab": {
          "base_uri": "https://localhost:8080/"
        },
        "outputId": "c645ed84-f79f-412e-8b76-e5337e0da99b"
      },
      "execution_count": 53,
      "outputs": [
        {
          "output_type": "execute_result",
          "data": {
            "text/plain": [
              "0.930622009569378"
            ]
          },
          "metadata": {},
          "execution_count": 53
        }
      ]
    },
    {
      "cell_type": "markdown",
      "source": [
        "We can see our accuacy decreased by 3%. This can be attributed to overfitting of the data (meaning the cabin section was not very related to the survivorship of the passenger). \n",
        "\n",
        "Another observation is that by filling in so much missing information with a faulty cabin prediction model (40% accuracy), we introduced a lot of noise in our dataset. Hence, the survival prediciton model got more 'confused' than desired.\n",
        "\n"
      ],
      "metadata": {
        "id": "volo-sju-hw1"
      }
    },
    {
      "cell_type": "code",
      "source": [],
      "metadata": {
        "id": "w51RvyXG_o2w"
      },
      "execution_count": 53,
      "outputs": []
    }
  ],
  "metadata": {
    "kernelspec": {
      "display_name": "Python 3",
      "language": "python",
      "name": "python3"
    },
    "language_info": {
      "codemirror_mode": {
        "name": "ipython",
        "version": 3
      },
      "file_extension": ".py",
      "mimetype": "text/x-python",
      "name": "python",
      "nbconvert_exporter": "python",
      "pygments_lexer": "ipython3",
      "version": "3.8.10"
    },
    "colab": {
      "provenance": []
    }
  },
  "nbformat": 4,
  "nbformat_minor": 0
}